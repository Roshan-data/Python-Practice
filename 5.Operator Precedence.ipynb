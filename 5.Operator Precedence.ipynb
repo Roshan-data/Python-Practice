{
 "cells": [
  {
   "cell_type": "markdown",
   "id": "a9ccacf8-ed3c-4432-bf4d-1ade35d8d624",
   "metadata": {},
   "source": [
    "### Operator Precedence"
   ]
  },
  {
   "cell_type": "markdown",
   "id": "5cdd4926-37b9-469f-b7ad-566b7cd64f26",
   "metadata": {},
   "source": [
    "##### Python follows PEMDAS (Parentheses, Exponents, Multiplication/Division, Addition/Subtraction). The order of operations in Python is:"
   ]
  },
  {
   "cell_type": "markdown",
   "id": "d066bf11-956e-42fa-911b-96270a7e0683",
   "metadata": {},
   "source": [
    "- Parentheses () – Highest precedence, operations inside parentheses are evaluated first.\n",
    "\n",
    "- Exponents ** – Power calculations (e.g., 2 ** 3 → 8).\n",
    "                                     \n",
    "- Multiplication *, Division /, Floor Division //, Modulus % – Evaluated from left to right.\n",
    "\n",
    "- Addition +, Subtraction - – Evaluated from left to right."
   ]
  },
  {
   "cell_type": "code",
   "execution_count": 1,
   "id": "9f3c6e6d-a207-463d-b903-c7558c5337f8",
   "metadata": {},
   "outputs": [
    {
     "name": "stdout",
     "output_type": "stream",
     "text": [
      "16\n",
      "36\n",
      "512\n"
     ]
    }
   ],
   "source": [
    "result = 10 + 2 * 3  # Multiplication happens first: 10 + (2 * 3) = 16\n",
    "print(result)\n",
    "\n",
    "result = (10 + 2) * 3  # Parentheses first: (10 + 2) * 3 = 36\n",
    "print(result)\n",
    "\n",
    "result = 2 ** 3 ** 2  # Right-to-left exponentiation: 2 ** (3 ** 2) = 2 ** 9 = 512\n",
    "print(result)"
   ]
  }
 ],
 "metadata": {
  "kernelspec": {
   "display_name": "Python [conda env:base] *",
   "language": "python",
   "name": "conda-base-py"
  },
  "language_info": {
   "codemirror_mode": {
    "name": "ipython",
    "version": 3
   },
   "file_extension": ".py",
   "mimetype": "text/x-python",
   "name": "python",
   "nbconvert_exporter": "python",
   "pygments_lexer": "ipython3",
   "version": "3.12.7"
  }
 },
 "nbformat": 4,
 "nbformat_minor": 5
}
