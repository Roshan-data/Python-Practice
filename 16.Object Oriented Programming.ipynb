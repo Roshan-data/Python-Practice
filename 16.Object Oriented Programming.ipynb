{
 "cells": [
  {
   "cell_type": "markdown",
   "id": "ebab5190-6cbc-4de3-bac8-99276b0a69a2",
   "metadata": {},
   "source": [
    "## Object Oriented Programming"
   ]
  },
  {
   "cell_type": "markdown",
   "id": "3d17966f-3c0c-401f-ab7d-ae626d979755",
   "metadata": {},
   "source": [
    "**Object-Oriented Programming (OOP) is a programming paradigm that organizes code into objects that contain both data (attributes) and behavior (methods).**"
   ]
  },
  {
   "cell_type": "markdown",
   "id": "d4e6b6c5-d591-4c45-a37f-ff3d827bc319",
   "metadata": {},
   "source": [
    "#### Key Concepts of OOP"
   ]
  },
  {
   "cell_type": "markdown",
   "id": "688bccf9-4223-4765-a9d3-97f466ece0b5",
   "metadata": {},
   "source": [
    "<img src =\"PY 12.png\" width =\"700\"/>"
   ]
  },
  {
   "cell_type": "markdown",
   "id": "da13b8f9-233a-4c97-aab7-37483f1f6f61",
   "metadata": {},
   "source": [
    "### 1. Defining a Class and Creating an Object\n",
    "#### Creating a Class"
   ]
  },
  {
   "cell_type": "code",
   "execution_count": 1,
   "id": "b60e2bd4-efaa-49da-a29e-6f474e8240fe",
   "metadata": {},
   "outputs": [
    {
     "name": "stdout",
     "output_type": "stream",
     "text": [
      "Toyota Camry\n"
     ]
    }
   ],
   "source": [
    "class Car:\n",
    "    def __init__(self, brand, model):\n",
    "        self.brand = brand  # Attribute\n",
    "        self.model = model  # Attribute\n",
    "\n",
    "    def display_info(self):  # Method\n",
    "        return f\"{self.brand} {self.model}\"\n",
    "\n",
    "# Creating an Object (Instance)\n",
    "car1 = Car(\"Toyota\", \"Camry\")\n",
    "print(car1.display_info())  # Output: Toyota Camry"
   ]
  },
  {
   "cell_type": "markdown",
   "id": "5bcf7efb-448f-4524-b840-b3ce7bad8f2e",
   "metadata": {},
   "source": [
    "### 2. Encapsulation (Data Hiding)\n",
    "#### Encapsulation prevents direct modification of attributes and allows controlled access using getter and setter methods."
   ]
  },
  {
   "cell_type": "code",
   "execution_count": 2,
   "id": "dce63a60-e89c-4df7-a35d-5d89ec7df25c",
   "metadata": {},
   "outputs": [
    {
     "name": "stdout",
     "output_type": "stream",
     "text": [
      "1500\n"
     ]
    }
   ],
   "source": [
    "class BankAccount:\n",
    "    def __init__(self, balance):\n",
    "        self.__balance = balance  # Private Attribute\n",
    "\n",
    "    def get_balance(self):  # Getter\n",
    "        return self.__balance\n",
    "\n",
    "    def deposit(self, amount):  # Setter\n",
    "        if amount > 0:\n",
    "            self.__balance += amount\n",
    "\n",
    "# Using Encapsulation\n",
    "account = BankAccount(1000)\n",
    "account.deposit(500)\n",
    "print(account.get_balance())  # Output: 1500"
   ]
  },
  {
   "cell_type": "markdown",
   "id": "5ebb59a8-2f82-4d9e-af22-56ea6d0eaa22",
   "metadata": {},
   "source": [
    "### 3. Inheritance (Reusing Code)\n",
    "#### Inheritance allows a class (child) to inherit attributes and methods from another class (parent).\n",
    "\n",
    "## Example of Single Inheritance"
   ]
  },
  {
   "cell_type": "code",
   "execution_count": 3,
   "id": "056c0ba6-77db-443a-aa14-c9abc9bbb881",
   "metadata": {},
   "outputs": [
    {
     "name": "stdout",
     "output_type": "stream",
     "text": [
      "Bark\n"
     ]
    }
   ],
   "source": [
    "class Animal:\n",
    "    def speak(self):\n",
    "        return \"Animal makes a sound\"\n",
    "\n",
    "class Dog(Animal):  # Inheriting from Animal\n",
    "    def speak(self):\n",
    "        return \"Bark\"\n",
    "\n",
    "dog = Dog()\n",
    "print(dog.speak())  # Output: Bark"
   ]
  },
  {
   "cell_type": "markdown",
   "id": "2126a4aa-3eeb-49a4-89f2-ee2d54337288",
   "metadata": {},
   "source": [
    "### 4. Multiple Inheritance\n",
    "#### A class can inherit from multiple parent classes."
   ]
  },
  {
   "cell_type": "code",
   "execution_count": 4,
   "id": "542a2f11-70cf-40e3-a9cf-94443fea2f71",
   "metadata": {},
   "outputs": [
    {
     "name": "stdout",
     "output_type": "stream",
     "text": [
      "Method A\n",
      "Method B\n"
     ]
    }
   ],
   "source": [
    "class A:\n",
    "    def method_a(self):\n",
    "        return \"Method A\"\n",
    "\n",
    "class B:\n",
    "    def method_b(self):\n",
    "        return \"Method B\"\n",
    "\n",
    "class C(A, B):  # Multiple Inheritance\n",
    "    pass\n",
    "\n",
    "obj = C()\n",
    "print(obj.method_a())  # Output: Method A\n",
    "print(obj.method_b())  # Output: Method B"
   ]
  },
  {
   "cell_type": "markdown",
   "id": "4f090a78-006f-4bc4-977c-c6360e3f8532",
   "metadata": {},
   "source": [
    "### 5. Polymorphism (Same Method, Different Behavior)\n",
    "#### Polymorphism allows different classes to use the same method name.\n",
    "\n",
    "## Method Overriding Example"
   ]
  },
  {
   "cell_type": "code",
   "execution_count": 5,
   "id": "c1d65123-199b-4dd4-9841-79e8fd8234ba",
   "metadata": {},
   "outputs": [
    {
     "name": "stdout",
     "output_type": "stream",
     "text": [
      "Birds can fly\n",
      "Penguins cannot fly\n"
     ]
    }
   ],
   "source": [
    "class Bird:\n",
    "    def fly(self):\n",
    "        return \"Birds can fly\"\n",
    "\n",
    "class Penguin(Bird):\n",
    "    def fly(self):\n",
    "        return \"Penguins cannot fly\"\n",
    "\n",
    "bird = Bird()\n",
    "penguin = Penguin()\n",
    "\n",
    "print(bird.fly())      # Output: Birds can fly\n",
    "print(penguin.fly())   # Output: Penguins cannot fly"
   ]
  },
  {
   "cell_type": "markdown",
   "id": "f38582d8-694a-42ae-bc7a-71c9580c819f",
   "metadata": {},
   "source": [
    "### 6. Abstraction (Hiding Implementation Details)\n",
    "**Abstraction is used to define a method without implementing it in the base class.\n",
    "It is achieved using abstract base classes (ABC module).**"
   ]
  },
  {
   "cell_type": "code",
   "execution_count": 6,
   "id": "598e260f-7980-4e22-82e2-3b7a46e60386",
   "metadata": {},
   "outputs": [
    {
     "name": "stdout",
     "output_type": "stream",
     "text": [
      "16\n"
     ]
    }
   ],
   "source": [
    "from abc import ABC, abstractmethod\n",
    "\n",
    "class Shape(ABC):\n",
    "    @abstractmethod\n",
    "    def area(self):\n",
    "        pass  # No implementation\n",
    "\n",
    "class Square(Shape):\n",
    "    def __init__(self, side):\n",
    "        self.side = side\n",
    "\n",
    "    def area(self):\n",
    "        return self.side * self.side  # Implemented in child class\n",
    "\n",
    "square = Square(4)\n",
    "print(square.area())  # Output: 16"
   ]
  },
  {
   "cell_type": "markdown",
   "id": "99ab6dca-3c27-40fa-80d6-fbbd72759463",
   "metadata": {},
   "source": [
    "### 7. Magic Methods (Dunder Methods)\n",
    "#### Magic methods allow objects to behave like built-in types.\n",
    "\n",
    "## Example: __str__() and __len__()"
   ]
  },
  {
   "cell_type": "code",
   "execution_count": 7,
   "id": "137d17bb-4037-4402-9c68-5cd2289efdca",
   "metadata": {},
   "outputs": [
    {
     "name": "stdout",
     "output_type": "stream",
     "text": [
      "Book: Python Basics\n",
      "300\n"
     ]
    }
   ],
   "source": [
    "class Book:\n",
    "    def __init__(self, title, pages):\n",
    "        self.title = title\n",
    "        self.pages = pages\n",
    "\n",
    "    def __str__(self):  # String representation\n",
    "        return f\"Book: {self.title}\"\n",
    "\n",
    "    def __len__(self):  # Define behavior for len()\n",
    "        return self.pages\n",
    "\n",
    "book = Book(\"Python Basics\", 300)\n",
    "print(str(book))  # Output: Book: Python Basics\n",
    "print(len(book))  # Output: 300"
   ]
  },
  {
   "cell_type": "markdown",
   "id": "a89c1ae9-839c-4fc6-947a-2667f7dd9e7c",
   "metadata": {},
   "source": [
    "## 8. Class vs. Static Methods"
   ]
  },
  {
   "cell_type": "markdown",
   "id": "7609b30c-ff57-4ca3-828e-df3e7196dd27",
   "metadata": {},
   "source": [
    "Method                        Type Description\t                           Uses self?\t  Uses cls?\n",
    "\n",
    "Instance Method\t             Works with instance attributes\t                    ✅\t           ❌\n",
    "Class Method\t             Works with class attributes\t                    ❌\t           ✅\n",
    "Static Method\t             Does not use class or instance variables\t        ❌\t           ❌"
   ]
  },
  {
   "cell_type": "code",
   "execution_count": 8,
   "id": "6e9c0486-bd7c-4b66-9dd8-c0ceea660156",
   "metadata": {},
   "outputs": [
    {
     "name": "stdout",
     "output_type": "stream",
     "text": [
      "Instance Method\n",
      "I am a class variable\n",
      "Static Method\n"
     ]
    }
   ],
   "source": [
    "class Example:\n",
    "    class_var = \"I am a class variable\"\n",
    "\n",
    "    def instance_method(self):\n",
    "        return \"Instance Method\"\n",
    "\n",
    "    @classmethod\n",
    "    def class_method(cls):\n",
    "        return cls.class_var\n",
    "\n",
    "    @staticmethod\n",
    "    def static_method():\n",
    "        return \"Static Method\"\n",
    "\n",
    "obj = Example()\n",
    "print(obj.instance_method())  # Output: Instance Method\n",
    "print(Example.class_method()) # Output: I am a class variable\n",
    "print(Example.static_method()) # Output: Static Method"
   ]
  },
  {
   "cell_type": "markdown",
   "id": "2c2966d2-04e1-44c8-992e-330d8ce0a293",
   "metadata": {},
   "source": [
    "## Summary of OOP Concepts"
   ]
  },
  {
   "cell_type": "markdown",
   "id": "1bb7d817-5173-43c5-81b0-4d990d270925",
   "metadata": {},
   "source": [
    "<img src =\"PY 13.png\" width =\"700\"/>"
   ]
  }
 ],
 "metadata": {
  "kernelspec": {
   "display_name": "Python [conda env:base] *",
   "language": "python",
   "name": "conda-base-py"
  },
  "language_info": {
   "codemirror_mode": {
    "name": "ipython",
    "version": 3
   },
   "file_extension": ".py",
   "mimetype": "text/x-python",
   "name": "python",
   "nbconvert_exporter": "python",
   "pygments_lexer": "ipython3",
   "version": "3.12.7"
  }
 },
 "nbformat": 4,
 "nbformat_minor": 5
}
