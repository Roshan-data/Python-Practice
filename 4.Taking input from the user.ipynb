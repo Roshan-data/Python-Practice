{
 "cells": [
  {
   "cell_type": "markdown",
   "id": "19b739c1-2f9f-4195-b69c-12c4d7451dff",
   "metadata": {},
   "source": [
    "### Taking input from the user"
   ]
  },
  {
   "cell_type": "code",
   "execution_count": 1,
   "id": "0af4a1a5-7f7c-49b5-85b9-5c81aac36af4",
   "metadata": {},
   "outputs": [
    {
     "name": "stdin",
     "output_type": "stream",
     "text": [
      "Enter your name:  Roshan Kumar\n"
     ]
    },
    {
     "name": "stdout",
     "output_type": "stream",
     "text": [
      "Hello Roshan Kumar\n"
     ]
    }
   ],
   "source": [
    "### Basic Usage\n",
    "name = input(\"Enter your name: \")\n",
    "print(\"Hello\", name)"
   ]
  },
  {
   "cell_type": "markdown",
   "id": "395c9336-8cd3-489f-a1e6-1c4580160d17",
   "metadata": {},
   "source": [
    "##### Note: input() always returns a string."
   ]
  },
  {
   "cell_type": "markdown",
   "id": "1d1668c9-896a-46ad-9be9-7b7881a0b0a3",
   "metadata": {},
   "source": [
    "### Type Conversion\n",
    "**You can always convert the string output of input() function to other supported data types.**"
   ]
  },
  {
   "cell_type": "code",
   "execution_count": 4,
   "id": "60bc4d24-98c8-4c8e-a789-edc508ac9f0b",
   "metadata": {},
   "outputs": [
    {
     "name": "stdin",
     "output_type": "stream",
     "text": [
      "Enter your age:  19\n",
      "Enter the price:  600.6\n"
     ]
    }
   ],
   "source": [
    "age = int(input(\"Enter your age: \"))\n",
    "price = float(input(\"Enter the price: \"))"
   ]
  }
 ],
 "metadata": {
  "kernelspec": {
   "display_name": "Python [conda env:base] *",
   "language": "python",
   "name": "conda-base-py"
  },
  "language_info": {
   "codemirror_mode": {
    "name": "ipython",
    "version": 3
   },
   "file_extension": ".py",
   "mimetype": "text/x-python",
   "name": "python",
   "nbconvert_exporter": "python",
   "pygments_lexer": "ipython3",
   "version": "3.12.7"
  }
 },
 "nbformat": 4,
 "nbformat_minor": 5
}
