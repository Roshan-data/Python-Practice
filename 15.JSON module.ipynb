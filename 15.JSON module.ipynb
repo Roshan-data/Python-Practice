{
 "cells": [
  {
   "cell_type": "markdown",
   "id": "d5908581-7bc3-4412-95db-6436e05adae4",
   "metadata": {},
   "source": [
    "## JSON module"
   ]
  },
  {
   "cell_type": "markdown",
   "id": "a1457f29-c162-4a21-8bf6-b428d0b77b59",
   "metadata": {},
   "source": [
    "**JSON (JavaScript Object Notation) is a lightweight data format used for data exchange between servers and applications. It is widely used in APIs, web applications, and configurations.**\n",
    "\n",
    "**Python provides the json module to work with JSON data. You can import the json module like this:**"
   ]
  },
  {
   "cell_type": "code",
   "execution_count": 1,
   "id": "2b7b677e-dd91-4857-884b-f7efd9323a47",
   "metadata": {},
   "outputs": [],
   "source": [
    "import json"
   ]
  },
  {
   "cell_type": "markdown",
   "id": "2c5144aa-533a-437f-88c2-35b25a2f9330",
   "metadata": {},
   "source": [
    "## Converting Python Objects to JSON (Serialization)\n",
    "\n",
    "**Serialization (also called encoding or dumping) is converting a Python object into a JSON-formatted string.**\n",
    "\n",
    "#### json.dumps() – Convert Python object to JSON string"
   ]
  },
  {
   "cell_type": "code",
   "execution_count": 2,
   "id": "b5792027-0d67-434c-8aa8-464ef7bda77d",
   "metadata": {},
   "outputs": [
    {
     "name": "stdout",
     "output_type": "stream",
     "text": [
      "{\"name\": \"Alice\", \"age\": 25, \"city\": \"New York\"}\n",
      "<class 'str'>\n"
     ]
    }
   ],
   "source": [
    "import json\n",
    "\n",
    "data = {\"name\": \"Alice\", \"age\": 25, \"city\": \"New York\"}\n",
    "\n",
    "json_string = json.dumps(data)\n",
    "print(json_string)  # Output: {\"name\": \"Alice\", \"age\": 25, \"city\": \"New York\"}\n",
    "print(type(json_string))  # <class 'str'>"
   ]
  },
  {
   "cell_type": "markdown",
   "id": "97b77b8d-3432-4a61-85b2-db368d44e38e",
   "metadata": {},
   "source": [
    "#### json.dump() – Write JSON data to a file"
   ]
  },
  {
   "cell_type": "code",
   "execution_count": 3,
   "id": "1b177ab0-e20c-455d-a4f9-c838a592266c",
   "metadata": {},
   "outputs": [],
   "source": [
    "with open(\"data.json\", \"w\") as file:\n",
    "    json.dump(data, file)"
   ]
  },
  {
   "cell_type": "markdown",
   "id": "9b78dc7d-560c-4cf6-870e-2482b599eb66",
   "metadata": {},
   "source": [
    "### Converting JSON to Python Objects (Deserialization)\n",
    "**Deserialization (also called decoding or loading) is converting JSON-formatted data into Python objects.**\n",
    "\n",
    "#### json.loads() – Convert JSON string to Python object"
   ]
  },
  {
   "cell_type": "code",
   "execution_count": 4,
   "id": "57dd599c-c03d-4238-b5b4-f9987945f1f7",
   "metadata": {},
   "outputs": [
    {
     "name": "stdout",
     "output_type": "stream",
     "text": [
      "{'name': 'Alice', 'age': 25, 'city': 'New York'}\n",
      "<class 'dict'>\n"
     ]
    }
   ],
   "source": [
    "json_data = '{\"name\": \"Alice\", \"age\": 25, \"city\": \"New York\"}'\n",
    "\n",
    "python_obj = json.loads(json_data)\n",
    "print(python_obj)  # Output: {'name': 'Alice', 'age': 25, 'city': 'New York'}\n",
    "print(type(python_obj))  # <class 'dict'>"
   ]
  },
  {
   "cell_type": "markdown",
   "id": "26ad8319-d4e8-494b-90aa-27f51f3c88ed",
   "metadata": {},
   "source": [
    "#### json.load() – Read JSON data from a file"
   ]
  },
  {
   "cell_type": "code",
   "execution_count": 5,
   "id": "19244bbe-61cd-408b-aa6e-c9e1e75089ec",
   "metadata": {},
   "outputs": [
    {
     "name": "stdout",
     "output_type": "stream",
     "text": [
      "{'name': 'Alice', 'age': 25, 'city': 'New York'}\n"
     ]
    }
   ],
   "source": [
    "with open(\"data.json\", \"r\") as file:\n",
    "    python_data = json.load(file)\n",
    "\n",
    "print(python_data)  # Output: {'name': 'Alice', 'age': 25, 'city': 'New York'}"
   ]
  },
  {
   "cell_type": "markdown",
   "id": "35822585-beef-43b7-ade6-7888fbf32c1b",
   "metadata": {},
   "source": [
    "### Formatting JSON Output\n",
    "**You can format JSON for better readability using indentation.**"
   ]
  },
  {
   "cell_type": "code",
   "execution_count": 6,
   "id": "c0e2249c-a48e-4774-8e41-39b0043e5a37",
   "metadata": {},
   "outputs": [
    {
     "name": "stdout",
     "output_type": "stream",
     "text": [
      "{\n",
      "    \"name\": \"Alice\",\n",
      "    \"age\": 25,\n",
      "    \"city\": \"New York\"\n",
      "}\n"
     ]
    }
   ],
   "source": [
    "formatted_json = json.dumps(data, indent=4)\n",
    "print(formatted_json)"
   ]
  },
  {
   "cell_type": "markdown",
   "id": "263f6815-5d71-4f54-b374-7889a06f0bed",
   "metadata": {},
   "source": [
    " Summary of Common JSON Methods\n",
    "\n",
    "Method\t                                            Description\t                                 Example\n",
    "json.dumps(obj)\t                                 Converts Python object to JSON string\t       json.dumps(data)\n",
    "json.dump(obj, file)\t                         Writes JSON to a file\t                       json.dump(data, file)\n",
    "json.loads(json_string)\t                         Converts JSON string to Python object\t       json.loads(json_data)\n",
    "json.load(file)\t                                 Reads JSON from a file\t                       json.load(file)"
   ]
  }
 ],
 "metadata": {
  "kernelspec": {
   "display_name": "Python [conda env:base] *",
   "language": "python",
   "name": "conda-base-py"
  },
  "language_info": {
   "codemirror_mode": {
    "name": "ipython",
    "version": 3
   },
   "file_extension": ".py",
   "mimetype": "text/x-python",
   "name": "python",
   "nbconvert_exporter": "python",
   "pygments_lexer": "ipython3",
   "version": "3.12.7"
  }
 },
 "nbformat": 4,
 "nbformat_minor": 5
}
