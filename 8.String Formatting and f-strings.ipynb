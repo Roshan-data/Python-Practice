{
 "cells": [
  {
   "cell_type": "markdown",
   "id": "431c7b2f-2e77-498e-ad63-08a559107627",
   "metadata": {},
   "source": [
    "### String Formatting and f-strings"
   ]
  },
  {
   "cell_type": "markdown",
   "id": "52280f9f-fe39-4edc-88f0-273798af7074",
   "metadata": {},
   "source": [
    "##### String is arguably the most used immutable data types in Python. Python provides multiple ways to format strings, "
   ]
  },
  {
   "cell_type": "markdown",
   "id": "b3ad1f65-9e1b-4154-9232-c7812b2cabdb",
   "metadata": {},
   "source": [
    "#### 1. Using format()"
   ]
  },
  {
   "cell_type": "code",
   "execution_count": 1,
   "id": "b0fbfb21-f638-4307-95e6-afde9c31d929",
   "metadata": {},
   "outputs": [
    {
     "name": "stdout",
     "output_type": "stream",
     "text": [
      "My name is Alice and I am 25 years old.\n"
     ]
    }
   ],
   "source": [
    "name = \"Alice\"\n",
    "age = 25\n",
    "print(\"My name is {} and I am {} years old.\".format(name, age))\n"
   ]
  },
  {
   "cell_type": "markdown",
   "id": "6606ba75-b41c-4fa8-b009-3d889060b273",
   "metadata": {},
   "source": [
    "### Positional and Keyword Arguments"
   ]
  },
  {
   "cell_type": "code",
   "execution_count": 2,
   "id": "0539eaf7-5c0f-4631-aa2b-4dc6238037fb",
   "metadata": {},
   "outputs": [
    {
     "name": "stdout",
     "output_type": "stream",
     "text": [
      "Alice is learning Python\n",
      "Alice is learning Python\n"
     ]
    }
   ],
   "source": [
    "print(\"{0} is learning {1}\".format(\"Alice\", \"Python\"))  # Using positions\n",
    "print(\"{name} is learning {language}\".format(name=\"Alice\", language=\"Python\"))"
   ]
  },
  {
   "cell_type": "markdown",
   "id": "f35a7905-0989-43f9-ab5c-0ea595a4fb0c",
   "metadata": {},
   "source": [
    "### 2. Using f-Strings (Recommended)"
   ]
  },
  {
   "cell_type": "markdown",
   "id": "2b47f9b9-d283-4a3b-911b-9e41a63ff7b5",
   "metadata": {},
   "source": [
    "F-strings provide a cleaner and more readable way to format strings."
   ]
  },
  {
   "cell_type": "code",
   "execution_count": 3,
   "id": "2a7c60de-36fb-4d2e-a1e5-56607f6e2432",
   "metadata": {},
   "outputs": [
    {
     "name": "stdout",
     "output_type": "stream",
     "text": [
      "My name is Alice and I am 25 years old.\n"
     ]
    }
   ],
   "source": [
    "name = \"Alice\"\n",
    "age = 25\n",
    "print(f\"My name is {name} and I am {age} years old.\")\n"
   ]
  },
  {
   "cell_type": "markdown",
   "id": "5d3135b0-61f7-4998-bd9b-17cc107daf1b",
   "metadata": {},
   "source": [
    "### Expressions Inside f-Strings"
   ]
  },
  {
   "cell_type": "code",
   "execution_count": 5,
   "id": "0f6d5757-0107-44e9-8f33-02d59dfb98fe",
   "metadata": {},
   "outputs": [
    {
     "name": "stdout",
     "output_type": "stream",
     "text": [
      "Sum of 5 and 10 is 15\n"
     ]
    }
   ],
   "source": [
    "a = 5\n",
    "b = 10\n",
    "print(f\"Sum of {a} and {b} is {a + b}\")\n"
   ]
  },
  {
   "cell_type": "markdown",
   "id": "8d1f6e96-4681-41ed-8483-82a6246c16f5",
   "metadata": {},
   "source": [
    "### Formatting Numbers"
   ]
  },
  {
   "cell_type": "code",
   "execution_count": 7,
   "id": "aa96a525-350b-4e4f-887f-25ec8e359720",
   "metadata": {},
   "outputs": [
    {
     "name": "stdout",
     "output_type": "stream",
     "text": [
      "Pi rounded to 2 decimal places: 3.14\n"
     ]
    }
   ],
   "source": [
    "pi = 3.14159\n",
    "print(f\"Pi rounded to 2 decimal places: {pi:.2f}\")\n"
   ]
  },
  {
   "cell_type": "markdown",
   "id": "614e68e6-69f0-48c3-96af-8827675c4f07",
   "metadata": {},
   "source": [
    "### Padding and Alignment"
   ]
  },
  {
   "cell_type": "code",
   "execution_count": 8,
   "id": "636a4fee-a5ac-4b09-b845-f4f8015f9c3d",
   "metadata": {},
   "outputs": [
    {
     "name": "stdout",
     "output_type": "stream",
     "text": [
      "Python    \n",
      "    Python\n",
      "  Python  \n"
     ]
    }
   ],
   "source": [
    "print(f\"{'Python':<10}\")  # Left-align\n",
    "print(f\"{'Python':>10}\")  # Right-align\n",
    "print(f\"{'Python':^10}\")  # Center-align"
   ]
  },
  {
   "cell_type": "markdown",
   "id": "8eb30fb3-ac2e-4b4b-8d17-b6a6951d98c4",
   "metadata": {},
   "source": [
    "- <10 → The < symbol means left-align the text within a total width of 10 characters.\n",
    "\n",
    "- F-strings are the most efficient and recommended way to format strings in modern Python!"
   ]
  }
 ],
 "metadata": {
  "kernelspec": {
   "display_name": "Python [conda env:base] *",
   "language": "python",
   "name": "conda-base-py"
  },
  "language_info": {
   "codemirror_mode": {
    "name": "ipython",
    "version": 3
   },
   "file_extension": ".py",
   "mimetype": "text/x-python",
   "name": "python",
   "nbconvert_exporter": "python",
   "pygments_lexer": "ipython3",
   "version": "3.12.7"
  }
 },
 "nbformat": 4,
 "nbformat_minor": 5
}
