{
 "cells": [
  {
   "cell_type": "markdown",
   "id": "7fc2409d-7434-4187-ad84-c6dde1eac710",
   "metadata": {},
   "source": [
    "### Loops "
   ]
  },
  {
   "cell_type": "markdown",
   "id": "9ab50726-0414-4432-a1ca-8af7ee0c2e7e",
   "metadata": {},
   "source": [
    "##### Python has two main loops: for and while."
   ]
  },
  {
   "cell_type": "markdown",
   "id": "8a42dd10-9462-450b-844f-deb614bea654",
   "metadata": {},
   "source": [
    "### 1. For Loop\n",
    "**Used to iterate over sequences like lists, tuples, and strings.**"
   ]
  },
  {
   "cell_type": "code",
   "execution_count": 1,
   "id": "b8b790e8-13b7-4a64-ac35-97cd00a152a6",
   "metadata": {},
   "outputs": [
    {
     "name": "stdout",
     "output_type": "stream",
     "text": [
      "apple\n",
      "banana\n",
      "cherry\n"
     ]
    }
   ],
   "source": [
    "fruits = [\"apple\", \"banana\", \"cherry\"]\n",
    "\n",
    "for fruit in fruits:\n",
    "    print(fruit)"
   ]
  },
  {
   "cell_type": "code",
   "execution_count": 3,
   "id": "7a2268dd-1ebf-472f-8bfe-360612f753fd",
   "metadata": {},
   "outputs": [
    {
     "name": "stdout",
     "output_type": "stream",
     "text": [
      "0\n",
      "1\n",
      "2\n"
     ]
    }
   ],
   "source": [
    "### Using range()\n",
    "for i in range(3):\n",
    "    print(i) "
   ]
  },
  {
   "cell_type": "markdown",
   "id": "18b495eb-ba4b-4d96-8036-7744a27280a0",
   "metadata": {},
   "source": [
    "### 2. While Loop"
   ]
  },
  {
   "cell_type": "markdown",
   "id": "a1e80868-1318-4190-8b93-897c79f3575c",
   "metadata": {},
   "source": [
    "##### Runs as long as a condition is True."
   ]
  },
  {
   "cell_type": "code",
   "execution_count": 4,
   "id": "72b1fbf7-bd0f-4061-a34b-27c835907af5",
   "metadata": {},
   "outputs": [
    {
     "name": "stdout",
     "output_type": "stream",
     "text": [
      "0\n",
      "1\n",
      "2\n"
     ]
    }
   ],
   "source": [
    "count = 0\n",
    "while count < 3:\n",
    "    print(count)\n",
    "    count += 1"
   ]
  },
  {
   "cell_type": "markdown",
   "id": "b9d8ac53-8dc6-4daf-ae5a-aa836cb7a0da",
   "metadata": {},
   "source": [
    "### 3. Loop Control Statements"
   ]
  },
  {
   "cell_type": "markdown",
   "id": "909ddbcb-9d2e-4659-9d0a-23080821a624",
   "metadata": {},
   "source": [
    "- break → Exits the loop.\n",
    "\n",
    "- continue → Skips to the next iteration.\n",
    "\n",
    "- pass → Does nothing (used as a placeholder).\n"
   ]
  },
  {
   "cell_type": "code",
   "execution_count": 5,
   "id": "53b9a7e3-4bec-4f7e-95c3-7a4c5aa537b8",
   "metadata": {},
   "outputs": [
    {
     "name": "stdout",
     "output_type": "stream",
     "text": [
      "0\n",
      "1\n",
      "2\n"
     ]
    }
   ],
   "source": [
    "for i in range(5):\n",
    "    if i == 3:\n",
    "        break  # Stops the loop at 3\n",
    "    print(i)"
   ]
  }
 ],
 "metadata": {
  "kernelspec": {
   "display_name": "Python [conda env:base] *",
   "language": "python",
   "name": "conda-base-py"
  },
  "language_info": {
   "codemirror_mode": {
    "name": "ipython",
    "version": 3
   },
   "file_extension": ".py",
   "mimetype": "text/x-python",
   "name": "python",
   "nbconvert_exporter": "python",
   "pygments_lexer": "ipython3",
   "version": "3.12.7"
  }
 },
 "nbformat": 4,
 "nbformat_minor": 5
}
