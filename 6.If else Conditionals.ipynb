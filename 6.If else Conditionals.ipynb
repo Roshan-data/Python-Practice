{
 "cells": [
  {
   "cell_type": "markdown",
   "id": "d96bd5cc-28a6-4514-be27-815fdee2536c",
   "metadata": {},
   "source": [
    "### If else Conditionals"
   ]
  },
  {
   "cell_type": "markdown",
   "id": "e83a4cce-23db-41ea-a1d9-82f5960267e5",
   "metadata": {},
   "source": [
    "**In Python, conditional statements (if, elif, and else) are used to control the flow of a program based on conditions. These are essential in data science for handling different scenarios in data processing, decision-making, and logic execution.**"
   ]
  },
  {
   "cell_type": "markdown",
   "id": "e685db7e-5e15-4f98-a9d1-aed7cfe3dcdf",
   "metadata": {},
   "source": [
    "#### Basic if Statement"
   ]
  },
  {
   "cell_type": "markdown",
   "id": "f83a1943-2c4a-4eb0-9963-83f195f24bf8",
   "metadata": {},
   "source": [
    "**The if statement allows you to execute a block of code only if a condition is True.**"
   ]
  },
  {
   "cell_type": "code",
   "execution_count": 1,
   "id": "15d2a0e0-15ae-4b9a-96bd-3f8c2482b6db",
   "metadata": {},
   "outputs": [
    {
     "name": "stdout",
     "output_type": "stream",
     "text": [
      "x is greater than 5\n"
     ]
    }
   ],
   "source": [
    "x = 10\n",
    "if x > 5:\n",
    "    print(\"x is greater than 5\")"
   ]
  },
  {
   "cell_type": "markdown",
   "id": "93c9fbae-173a-4232-ba05-993ef07ba685",
   "metadata": {},
   "source": [
    "### if-else Statement"
   ]
  },
  {
   "cell_type": "markdown",
   "id": "30af0c34-3a62-459d-975f-4cfc0cf55f68",
   "metadata": {},
   "source": [
    "**The else block executes when the if condition is False.**"
   ]
  },
  {
   "cell_type": "code",
   "execution_count": 2,
   "id": "0716a7d3-6352-4d47-b191-fbd2fb77a2f0",
   "metadata": {},
   "outputs": [
    {
     "name": "stdout",
     "output_type": "stream",
     "text": [
      "x is not greater than 5\n"
     ]
    }
   ],
   "source": [
    "x = 3\n",
    "if x > 5:\n",
    "    print(\"x is greater than 5\")\n",
    "else:\n",
    "    print(\"x is not greater than 5\")"
   ]
  },
  {
   "cell_type": "markdown",
   "id": "73806a13-a0e8-456c-b705-6e04e9c31d57",
   "metadata": {},
   "source": [
    "### if-elif-else Statement"
   ]
  },
  {
   "cell_type": "markdown",
   "id": "f49467df-df86-4d94-b11c-b0259c78289d",
   "metadata": {},
   "source": [
    "**When multiple conditions need to be checked sequentially, use elif (short for \"else if\").**"
   ]
  },
  {
   "cell_type": "code",
   "execution_count": 3,
   "id": "7a08395b-3014-4dc9-99c1-52ad2e627e4c",
   "metadata": {},
   "outputs": [
    {
     "name": "stdout",
     "output_type": "stream",
     "text": [
      "x is exactly 5\n"
     ]
    }
   ],
   "source": [
    "x = 5\n",
    "if x > 10:\n",
    "    print(\"x is greater than 10\")\n",
    "elif x > 5:\n",
    "    print(\"x is greater than 5 but not more than 10\")\n",
    "elif x == 5:\n",
    "    print(\"x is exactly 5\")\n",
    "else:\n",
    "    print(\"x is less than 5\")"
   ]
  },
  {
   "cell_type": "markdown",
   "id": "3595caec-9d34-4250-a965-2dfd95f2d532",
   "metadata": {},
   "source": [
    "### Using if-else in Data Science"
   ]
  },
  {
   "cell_type": "markdown",
   "id": "d6cc4728-d95e-4ba2-81a6-30d12d603c7e",
   "metadata": {},
   "source": [
    "**Conditional statements are widely used in data science for filtering, cleaning, and decision-making.**"
   ]
  },
  {
   "cell_type": "code",
   "execution_count": 4,
   "id": "080d601c-655d-469f-9a5e-583dfcd13b62",
   "metadata": {},
   "outputs": [
    {
     "name": "stdout",
     "output_type": "stream",
     "text": [
      "Category: Adult\n"
     ]
    }
   ],
   "source": [
    "age = 25\n",
    "if age < 18:\n",
    "    category = \"Minor\"\n",
    "elif age < 65:\n",
    "    category = \"Adult\"\n",
    "else:\n",
    "    category = \"Senior Citizen\"\n",
    "\n",
    "print(\"Category:\", category)"
   ]
  }
 ],
 "metadata": {
  "kernelspec": {
   "display_name": "Python [conda env:base] *",
   "language": "python",
   "name": "conda-base-py"
  },
  "language_info": {
   "codemirror_mode": {
    "name": "ipython",
    "version": 3
   },
   "file_extension": ".py",
   "mimetype": "text/x-python",
   "name": "python",
   "nbconvert_exporter": "python",
   "pygments_lexer": "ipython3",
   "version": "3.12.7"
  }
 },
 "nbformat": 4,
 "nbformat_minor": 5
}
