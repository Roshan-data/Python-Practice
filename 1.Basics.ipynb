{
 "cells": [
  {
   "cell_type": "markdown",
   "id": "57ee981a-b83d-4cc2-9657-561fced80d70",
   "metadata": {},
   "source": [
    "### Why choose Python"
   ]
  },
  {
   "cell_type": "markdown",
   "id": "557b21d6-1088-4c34-8dbc-9127a2cce102",
   "metadata": {},
   "source": [
    "##### Python is a popular and powerful choice for data science"
   ]
  },
  {
   "cell_type": "markdown",
   "id": "0042b7b0-5526-4212-a1f2-abf886fa44f0",
   "metadata": {},
   "source": [
    "### Variables, Data Types, and Typecasting"
   ]
  },
  {
   "cell_type": "markdown",
   "id": "4e7439b8-0240-4dc5-b732-5d8878287019",
   "metadata": {},
   "source": [
    "##### In this video, we will learn about variables, data types, and typecasting in Python to store and convert data effectively."
   ]
  },
  {
   "cell_type": "markdown",
   "id": "655998a8-5648-4e37-9b07-da773f0dba6a",
   "metadata": {},
   "source": [
    "- Variables\n",
    "    - Containers for storing data values.\n",
    "\n",
    "    - No need to declare data type explicitly."
   ]
  },
  {
   "cell_type": "code",
   "execution_count": 2,
   "id": "7596e8f7-24bf-4564-b0de-de4d9c441378",
   "metadata": {},
   "outputs": [],
   "source": [
    "name = \"Alice\"\n",
    "age = 25\n",
    "is_student = True"
   ]
  },
  {
   "cell_type": "markdown",
   "id": "44062a5b-0507-47f4-97e9-d925290fd77a",
   "metadata": {},
   "source": [
    "Data Types:\n",
    "\n",
    "Type                   \tExample\t                     Description\n",
    "int\t                    10, -5\t                     Integer numbers\n",
    "float\t                3.14, -0.5\t                 Decimal numbers\n",
    "str                 \t\"hello\"\t                     Text (string)\n",
    "bool\t                 True, False\t             Boolean values\n",
    "list\t                [1, 2, 3]\t                 Ordered, mutable collection\n",
    "tuple\t                (1, 2, 3)\t                 Ordered, immutable collection\n",
    "dict\t                {\"a\": 1}\t                 Key-value pairs"
   ]
  },
  {
   "cell_type": "markdown",
   "id": "7c6203cb-4d5b-48c7-a59e-88ceefadf515",
   "metadata": {},
   "source": [
    "### Typecasting (Type Conversion)"
   ]
  },
  {
   "cell_type": "markdown",
   "id": "9eec71a7-85b9-4a6e-b244-06975e823cd4",
   "metadata": {},
   "source": [
    "**Convert data from one type to another using built-in functions:**"
   ]
  },
  {
   "cell_type": "code",
   "execution_count": 4,
   "id": "a9df4c06-de10-4126-a6de-445c7185cfe8",
   "metadata": {},
   "outputs": [],
   "source": [
    "# str to int\n",
    "x = int(\"10\")      # 10\n",
    "\n",
    "# int to str\n",
    "y = str(25)        # \"25\"\n",
    "\n",
    "# float to int\n",
    "z = int(3.9)       # 3 (truncates, not rounds)\n",
    "\n",
    "# list from string\n",
    "lst = list(\"abc\")  # ['a', 'b', 'c']"
   ]
  },
  {
   "cell_type": "markdown",
   "id": "ea3a03cb-2f60-445b-a8f7-4e168da800d3",
   "metadata": {},
   "source": [
    "- Use type(variable) to check a variable’s data type.\n",
    "\n",
    "- Typecasting errors can happen if the value isn't compatible"
   ]
  },
  {
   "cell_type": "code",
   "execution_count": 5,
   "id": "7f35d72a-1819-494f-9642-3f97949b3e01",
   "metadata": {},
   "outputs": [
    {
     "ename": "ValueError",
     "evalue": "invalid literal for int() with base 10: 'hello'",
     "output_type": "error",
     "traceback": [
      "\u001b[1;31m---------------------------------------------------------------------------\u001b[0m",
      "\u001b[1;31mValueError\u001b[0m                                Traceback (most recent call last)",
      "Cell \u001b[1;32mIn[5], line 1\u001b[0m\n\u001b[1;32m----> 1\u001b[0m \u001b[38;5;28mint\u001b[39m(\u001b[38;5;124m\"\u001b[39m\u001b[38;5;124mhello\u001b[39m\u001b[38;5;124m\"\u001b[39m)\n",
      "\u001b[1;31mValueError\u001b[0m: invalid literal for int() with base 10: 'hello'"
     ]
    }
   ],
   "source": [
    "int(\"hello\")  # ValueError"
   ]
  }
 ],
 "metadata": {
  "kernelspec": {
   "display_name": "Python [conda env:base] *",
   "language": "python",
   "name": "conda-base-py"
  },
  "language_info": {
   "codemirror_mode": {
    "name": "ipython",
    "version": 3
   },
   "file_extension": ".py",
   "mimetype": "text/x-python",
   "name": "python",
   "nbconvert_exporter": "python",
   "pygments_lexer": "ipython3",
   "version": "3.12.7"
  }
 },
 "nbformat": 4,
 "nbformat_minor": 5
}
