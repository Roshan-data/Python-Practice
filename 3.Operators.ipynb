{
 "cells": [
  {
   "cell_type": "markdown",
   "id": "03db9e19-c8c0-45ac-a673-5a491bf40e94",
   "metadata": {},
   "source": [
    "### 1. Arithmetic Operators"
   ]
  },
  {
   "cell_type": "markdown",
   "id": "281b9871-0519-4aea-ab25-5c3744805a92",
   "metadata": {},
   "source": [
    "<img src = \"PY 2.png\" width =\"700\"/>"
   ]
  },
  {
   "cell_type": "markdown",
   "id": "30282439-62b3-4e4c-b3bb-a76222598646",
   "metadata": {},
   "source": [
    "### 2. Comparison Operators\n",
    "Compare values and return True or False."
   ]
  },
  {
   "cell_type": "markdown",
   "id": "e72d6ba7-99b9-4632-85e7-07aa6fffe364",
   "metadata": {},
   "source": [
    "<img src = \"PY 3.png\" width =\"700\"/>"
   ]
  },
  {
   "cell_type": "markdown",
   "id": "a12a422f-5958-42fc-9a97-542efcc4e4c2",
   "metadata": {},
   "source": [
    "### 3. Logical Operators\n",
    "Used to combine conditional statements."
   ]
  },
  {
   "cell_type": "markdown",
   "id": "b80583c7-b396-404d-a923-73314a86136a",
   "metadata": {},
   "source": [
    "Operator\t                   Description\t                   Example (x=True, y=False)\n",
    "\n",
    "and                         \tBoth True\t                    x and y  # False\n",
    "or\t                            Either True                 \tx or y  # True\n",
    "not\t                            Negation\t                    not x  # False"
   ]
  },
  {
   "cell_type": "markdown",
   "id": "259953ca-5252-4fb3-b74a-db132fafeaf7",
   "metadata": {},
   "source": [
    "### 4. Bitwise Operators\n",
    "Perform bit-level operations."
   ]
  },
  {
   "cell_type": "markdown",
   "id": "f4439221-894d-432a-9adf-4a174ab745b0",
   "metadata": {},
   "source": [
    "Operator\t                 Description\t                     Example (a=5, b=3)\n",
    "\n",
    "&\t                          AND\t                             a & b  # 1\n",
    "|\t                          OR\t                             a | b # 7"
   ]
  },
  {
   "cell_type": "markdown",
   "id": "2e6287dc-a2a7-423a-8d86-21b7d806edbc",
   "metadata": {},
   "source": [
    "### 5. Assignment Operators\n",
    "Used to assign values to variables."
   ]
  },
  {
   "cell_type": "markdown",
   "id": "454167b5-2f4e-473f-873d-890d9ccc2190",
   "metadata": {},
   "source": [
    "<img src =\"PY 4.png\" width =\"700\"/>"
   ]
  },
  {
   "cell_type": "markdown",
   "id": "9c6ee190-773d-49b2-9604-aa3064e5f63a",
   "metadata": {},
   "source": [
    "### 6. Membership & Identity Operators\n",
    "Check for presence and object identity."
   ]
  },
  {
   "cell_type": "markdown",
   "id": "54755fee-bbf4-4858-8969-6ae645f6570b",
   "metadata": {},
   "source": [
    "<img src =\"PY 5.png\" width =\"700\"/>"
   ]
  }
 ],
 "metadata": {
  "kernelspec": {
   "display_name": "Python [conda env:base] *",
   "language": "python",
   "name": "conda-base-py"
  },
  "language_info": {
   "codemirror_mode": {
    "name": "ipython",
    "version": 3
   },
   "file_extension": ".py",
   "mimetype": "text/x-python",
   "name": "python",
   "nbconvert_exporter": "python",
   "pygments_lexer": "ipython3",
   "version": "3.12.7"
  }
 },
 "nbformat": 4,
 "nbformat_minor": 5
}
