{
 "cells": [
  {
   "cell_type": "markdown",
   "id": "43eb6e29-2990-486d-95aa-8f6431a02b45",
   "metadata": {},
   "source": [
    "## File Handling"
   ]
  },
  {
   "cell_type": "markdown",
   "id": "92086a19-09e6-47eb-b617-42cdb187f51e",
   "metadata": {},
   "source": [
    "**File handling allows Python programs to read, write, and manipulate files stored on disk. Python provides built-in functions for working with files.**"
   ]
  },
  {
   "cell_type": "markdown",
   "id": "d0ed98b6-c6f2-49b1-be32-16d37a42ce2e",
   "metadata": {},
   "source": [
    "### Opening a File\n",
    "- Python uses the open() function to open a file."
   ]
  },
  {
   "cell_type": "code",
   "execution_count": null,
   "id": "51335c49-d417-4c12-87bd-0cd75d9bf609",
   "metadata": {},
   "outputs": [],
   "source": [
    "file = open(\"filename\", mode)"
   ]
  },
  {
   "cell_type": "code",
   "execution_count": null,
   "id": "3e5b0c34-23ec-4d62-9769-0ed16ab22e3a",
   "metadata": {},
   "outputs": [],
   "source": [
    "filename → The name of the file to open.\n",
    "mode → Specifies how the file should be opened."
   ]
  },
  {
   "cell_type": "markdown",
   "id": "e13c5c1c-4aa9-4c6e-af66-a7c80ee64e92",
   "metadata": {},
   "source": [
    "#### File Modes"
   ]
  },
  {
   "cell_type": "markdown",
   "id": "fd0f4f88-9d81-43f1-b5b2-ac1c6b6f81bb",
   "metadata": {},
   "source": [
    "<img src = \"PY 10.png\" width =\"700\"/>"
   ]
  },
  {
   "cell_type": "markdown",
   "id": "c51f2f12-dd0f-48d1-9597-815dc70cf118",
   "metadata": {},
   "source": [
    "### Reading Files"
   ]
  },
  {
   "cell_type": "markdown",
   "id": "006dfb3d-6b03-408e-bc5f-49ce55129466",
   "metadata": {},
   "source": [
    "#### Using read() – Read Entire File"
   ]
  },
  {
   "cell_type": "code",
   "execution_count": null,
   "id": "58171ef7-0d0e-4c6c-89b6-597d91f77461",
   "metadata": {},
   "outputs": [],
   "source": [
    "file = open(\"example.txt\", \"r\")\n",
    "content = file.read()\n",
    "print(content)\n",
    "file.close()  # Always close the file after use"
   ]
  },
  {
   "cell_type": "markdown",
   "id": "7680551c-c88c-4797-be23-a2e6918b021e",
   "metadata": {},
   "source": [
    "#### Using readline() – Read Line by Line"
   ]
  },
  {
   "cell_type": "code",
   "execution_count": null,
   "id": "032c31c3-4a7b-4366-b0bc-4714fc6b4005",
   "metadata": {},
   "outputs": [],
   "source": [
    "file = open(\"example.txt\", \"r\")\n",
    "line1 = file.readline()  # Reads first line\n",
    "print(line1)\n",
    "file.close()"
   ]
  },
  {
   "cell_type": "markdown",
   "id": "8b1f6d88-1324-453f-bbf0-1b692e829312",
   "metadata": {},
   "source": [
    "#### Using readlines() – Read All Lines as List"
   ]
  },
  {
   "cell_type": "code",
   "execution_count": null,
   "id": "b6c26d8a-7cd8-4f32-8fb8-a1f653cb6107",
   "metadata": {},
   "outputs": [],
   "source": [
    "file = open(\"example.txt\", \"r\")\n",
    "lines = file.readlines()  # Reads all lines into a list\n",
    "print(lines)\n",
    "file.close()"
   ]
  },
  {
   "cell_type": "markdown",
   "id": "307027d7-8ab0-47b6-8802-993b8757f535",
   "metadata": {},
   "source": [
    "### Writing to Files"
   ]
  },
  {
   "cell_type": "markdown",
   "id": "cfc10ab7-bfa3-4d96-aa76-c413e5e4db23",
   "metadata": {},
   "source": [
    "#### Using write() – Overwrites Existing Content"
   ]
  },
  {
   "cell_type": "code",
   "execution_count": null,
   "id": "74a85153-1818-429b-a99b-a483bd411bc7",
   "metadata": {},
   "outputs": [],
   "source": [
    "file = open(\"example.txt\", \"w\")  # Opens file in write mode\n",
    "file.write(\"Hello, World!\")  # Writes content\n",
    "file.close()"
   ]
  },
  {
   "cell_type": "markdown",
   "id": "20bb736b-95b8-4c46-b498-125b0983da5c",
   "metadata": {},
   "source": [
    "#### Using writelines() – Write Multiple Lines"
   ]
  },
  {
   "cell_type": "code",
   "execution_count": null,
   "id": "4819433f-5008-4762-b6a0-6a83e46aa0b1",
   "metadata": {},
   "outputs": [],
   "source": [
    "lines = [\"Hello\\n\", \"Welcome to Python\\n\", \"File Handling\\n\"]\n",
    "\n",
    "file = open(\"example.txt\", \"w\")\n",
    "file.writelines(lines)  # Writes multiple lines\n",
    "file.close()"
   ]
  },
  {
   "cell_type": "markdown",
   "id": "e3798e3d-d848-4a12-83c3-820206f91758",
   "metadata": {},
   "source": [
    "### Appending to a File\n",
    "**The a (append) mode is used to add content to an existing file without erasing previous data.**"
   ]
  },
  {
   "cell_type": "code",
   "execution_count": null,
   "id": "b9248d8a-6dd7-40e1-9137-121a5ee6064b",
   "metadata": {},
   "outputs": [],
   "source": [
    "file = open(\"example.txt\", \"a\")\n",
    "file.write(\"\\nThis is an additional line.\")\n",
    "file.close()"
   ]
  },
  {
   "cell_type": "markdown",
   "id": "1dd1cb48-470d-4ec3-a9e8-8437461f77b8",
   "metadata": {},
   "source": [
    "### Using with Statement (Best Practice)\n",
    "**Using with open() ensures the file is automatically closed after execution.**"
   ]
  },
  {
   "cell_type": "code",
   "execution_count": null,
   "id": "1aeabde1-1b02-40cd-b177-48ee33daf4ce",
   "metadata": {},
   "outputs": [],
   "source": [
    "with open(\"example.txt\", \"r\") as file:\n",
    "    content = file.read()\n",
    "    print(content)  # No need to manually close the file"
   ]
  },
  {
   "cell_type": "markdown",
   "id": "f9c7e35c-ea3c-43e4-977d-f9b821af9eb2",
   "metadata": {},
   "source": [
    "### Checking if a File Exists\n",
    "**Use the os module to check if a file exists before opening it.**"
   ]
  },
  {
   "cell_type": "code",
   "execution_count": 5,
   "id": "e45d1e05-6051-4db4-85e4-055d259977fb",
   "metadata": {},
   "outputs": [
    {
     "name": "stdout",
     "output_type": "stream",
     "text": [
      "File not found!\n"
     ]
    }
   ],
   "source": [
    "import os\n",
    "\n",
    "if os.path.exists(\"example.txt\"):\n",
    "    print(\"File exists!\")\n",
    "else:\n",
    "    print(\"File not found!\")"
   ]
  },
  {
   "cell_type": "markdown",
   "id": "aeda74f5-2681-46ab-9339-5f8d27311b02",
   "metadata": {},
   "source": [
    "### Deleting a File\n",
    "**Use the os module to delete a file.**"
   ]
  },
  {
   "cell_type": "code",
   "execution_count": 4,
   "id": "026f8266-35b6-482b-91fe-5c2c0b1ebf2e",
   "metadata": {},
   "outputs": [
    {
     "name": "stdout",
     "output_type": "stream",
     "text": [
      "File does not exist.\n"
     ]
    }
   ],
   "source": [
    "import os\n",
    "\n",
    "if os.path.exists(\"example.txt\"):\n",
    "    os.remove(\"example.txt\")\n",
    "    print(\"File deleted.\")\n",
    "else:\n",
    "    print(\"File does not exist.\")"
   ]
  },
  {
   "cell_type": "markdown",
   "id": "d7970cd9-62fb-4fdc-8f45-3b339163739a",
   "metadata": {},
   "source": [
    "### Working with Binary Files\n",
    "**Binary files (.jpg, .png, .pdf, etc.) should be opened in binary mode ('b').**"
   ]
  },
  {
   "cell_type": "markdown",
   "id": "9118d493-e58d-441f-97e9-db3bd8094437",
   "metadata": {},
   "source": [
    "### Reading a Binary File"
   ]
  },
  {
   "cell_type": "code",
   "execution_count": null,
   "id": "35c15e1e-968c-48ca-88be-a186805bf2d1",
   "metadata": {},
   "outputs": [],
   "source": [
    "with open(\"image.jpg\", \"rb\") as file:\n",
    "    data = file.read()\n",
    "    print(data)  # Outputs binary content"
   ]
  },
  {
   "cell_type": "markdown",
   "id": "25e03628-a572-4481-867b-f6bf23e1f3b8",
   "metadata": {},
   "source": [
    "### Writing to a Binary File"
   ]
  },
  {
   "cell_type": "code",
   "execution_count": null,
   "id": "27ef23d6-775e-4c5d-8ff8-31ab811543e3",
   "metadata": {},
   "outputs": [],
   "source": [
    "with open(\"new_image.jpg\", \"wb\") as file:\n",
    "    file.write(data)  # Writes binary content to a new file"
   ]
  },
  {
   "cell_type": "markdown",
   "id": "53c38c61-1446-404c-8e52-1fd73e540f5e",
   "metadata": {},
   "source": [
    "## Summary of File Operations"
   ]
  },
  {
   "cell_type": "markdown",
   "id": "1d6f1b03-059c-46b8-900e-8a3fe479b343",
   "metadata": {},
   "source": [
    "<img src =\"PY 11.png\" width =\"700\"/>"
   ]
  }
 ],
 "metadata": {
  "kernelspec": {
   "display_name": "Python [conda env:base] *",
   "language": "python",
   "name": "conda-base-py"
  },
  "language_info": {
   "codemirror_mode": {
    "name": "ipython",
    "version": 3
   },
   "file_extension": ".py",
   "mimetype": "text/x-python",
   "name": "python",
   "nbconvert_exporter": "python",
   "pygments_lexer": "ipython3",
   "version": "3.12.7"
  }
 },
 "nbformat": 4,
 "nbformat_minor": 5
}
