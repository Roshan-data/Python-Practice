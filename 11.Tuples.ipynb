{
 "cells": [
  {
   "cell_type": "markdown",
   "id": "5d96498e-8be0-4c6c-8d4d-83c826303b95",
   "metadata": {},
   "source": [
    "## Tuples"
   ]
  },
  {
   "cell_type": "markdown",
   "id": "1c92841f-201c-4153-977b-4953ca09943a",
   "metadata": {},
   "source": [
    "**A tuple in Python is an ordered, immutable collection of elements. It is similar to a list, but once created, its elements cannot be modified.**"
   ]
  },
  {
   "cell_type": "markdown",
   "id": "fdfc8ee2-9e74-4634-95d4-778b2ce898da",
   "metadata": {},
   "source": [
    "### Creating a Tuple:"
   ]
  },
  {
   "cell_type": "code",
   "execution_count": 1,
   "id": "931bb8d0-7692-412f-bdbc-b379abdbfbf8",
   "metadata": {},
   "outputs": [],
   "source": [
    "# Empty tuple\n",
    "empty_tuple = ()\n",
    "\n",
    "# Tuple with elements\n",
    "numbers = (1, 2, 3, 4, 5)\n",
    "\n",
    "# Mixed data types\n",
    "mixed_tuple = (1, \"Hello\", 3.14, True)\n",
    "\n",
    "# Single element tuple (comma is necessary)\n",
    "single_element = (42,)"
   ]
  },
  {
   "cell_type": "markdown",
   "id": "b03068ee-f8ad-499f-9bd6-0c41fc23f91d",
   "metadata": {},
   "source": [
    "### Common Tuple Methods"
   ]
  },
  {
   "cell_type": "markdown",
   "id": "28f5ff55-f044-4e3b-b70e-0e3dfd7f8f71",
   "metadata": {},
   "source": [
    "Method\t                           Description\t                                  Example\n",
    "count(x)\t  Returns the number of times x appears in the tuple.\t            my_tuple.count(2)\n",
    "index(x)\t  Returns the index of the first occurrence of x.              \t    my_tuple.index(3)"
   ]
  },
  {
   "cell_type": "markdown",
   "id": "b542fc74-589f-49f7-998d-a3e68ab38cde",
   "metadata": {},
   "source": [
    "### Tuple Characteristics\n",
    "\n",
    "- Immutable: Once created, elements cannot be changed.\n",
    "    \n",
    "- Faster than lists: Accessing elements in a tuple is faster than in a list.\n",
    "    \n",
    "- Can be used as dictionary keys: Since tuples are immutable, they can be used as keys in dictionaries."
   ]
  },
  {
   "cell_type": "markdown",
   "id": "3d48433f-5afc-4009-8b0b-a5a1494c54c5",
   "metadata": {},
   "source": [
    "### Accessing Tuple Elements"
   ]
  },
  {
   "cell_type": "code",
   "execution_count": 2,
   "id": "94526a78-c537-441c-9dfa-74fc7bd9566c",
   "metadata": {},
   "outputs": [
    {
     "name": "stdout",
     "output_type": "stream",
     "text": [
      "20\n",
      "(20, 30)\n"
     ]
    }
   ],
   "source": [
    "my_tuple = (10, 20, 30, 40)\n",
    "\n",
    "# Indexing\n",
    "print(my_tuple[1])  # 20\n",
    "\n",
    "# Slicing\n",
    "print(my_tuple[1:3])  # (20, 30)"
   ]
  },
  {
   "cell_type": "markdown",
   "id": "5381e1b7-cb1f-41d3-a147-7776a8c8d77d",
   "metadata": {},
   "source": [
    "### Tuple Packing and Unpacking"
   ]
  },
  {
   "cell_type": "code",
   "execution_count": 3,
   "id": "b4ccc212-bd87-4d3d-a93c-7fb60cef5209",
   "metadata": {},
   "outputs": [
    {
     "name": "stdout",
     "output_type": "stream",
     "text": [
      "Alice\n",
      "25\n"
     ]
    }
   ],
   "source": [
    "# Packing\n",
    "person = (\"Alice\", 25, \"Engineer\")\n",
    "\n",
    "# Unpacking\n",
    "name, age, profession = person\n",
    "print(name)  # Alice\n",
    "print(age)   # 25"
   ]
  },
  {
   "cell_type": "markdown",
   "id": "a85e8e3d-857a-4127-94d3-95bf3590567e",
   "metadata": {},
   "source": [
    "### When to Use Tuples?\n",
    "\n",
    "- When you want an unchangeable collection of elements.\n",
    "\n",
    "- When you need a faster alternative to lists.\n",
    "    \n",
    "- When storing heterogeneous data (e.g., database records, coordinates)."
   ]
  }
 ],
 "metadata": {
  "kernelspec": {
   "display_name": "Python [conda env:base] *",
   "language": "python",
   "name": "conda-base-py"
  },
  "language_info": {
   "codemirror_mode": {
    "name": "ipython",
    "version": 3
   },
   "file_extension": ".py",
   "mimetype": "text/x-python",
   "name": "python",
   "nbconvert_exporter": "python",
   "pygments_lexer": "ipython3",
   "version": "3.12.7"
  }
 },
 "nbformat": 4,
 "nbformat_minor": 5
}
