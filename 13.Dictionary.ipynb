{
 "cells": [
  {
   "cell_type": "markdown",
   "id": "c100638a-8035-46f8-b1dd-b47ed279dabd",
   "metadata": {},
   "source": [
    "## Dictionary"
   ]
  },
  {
   "cell_type": "markdown",
   "id": "dbdf5679-2bcb-4c55-b3d8-f4f1fdf026cd",
   "metadata": {},
   "source": [
    "**A dictionary in Python is an unordered, mutable, and key-value pair collection. It allows efficient data retrieval and modification.**"
   ]
  },
  {
   "cell_type": "code",
   "execution_count": 1,
   "id": "6bbe340d-02d4-4805-a9ba-e39f909837b4",
   "metadata": {},
   "outputs": [],
   "source": [
    "# Empty dictionary\n",
    "empty_dict = {}\n",
    "\n",
    "# Dictionary with key-value pairs\n",
    "student = {\n",
    "    \"name\": \"Alice\",\n",
    "    \"age\": 25,\n",
    "    \"grade\": \"A\"\n",
    "}\n",
    "\n",
    "# Using dict() constructor\n",
    "person = dict(name=\"John\", age=30, city=\"New York\")"
   ]
  },
  {
   "cell_type": "markdown",
   "id": "f48b6b20-4054-4ab5-9610-6d9dd60704bd",
   "metadata": {},
   "source": [
    "### Accessing Dictionary Elements"
   ]
  },
  {
   "cell_type": "code",
   "execution_count": 2,
   "id": "63b5eb26-9889-4c0b-96fa-8628259c3e52",
   "metadata": {},
   "outputs": [
    {
     "name": "stdout",
     "output_type": "stream",
     "text": [
      "Alice\n",
      "25\n",
      "Not Found\n"
     ]
    }
   ],
   "source": [
    "# Using keys\n",
    "print(student[\"name\"])  # Alice\n",
    "\n",
    "# Using get() (avoids KeyError if key doesn't exist)\n",
    "print(student.get(\"age\"))  # 25\n",
    "print(student.get(\"height\", \"Not Found\"))  # Default value"
   ]
  },
  {
   "cell_type": "markdown",
   "id": "e31baade-4189-476a-8b09-832a2034fcbf",
   "metadata": {},
   "source": [
    "### Common Dictionary Methods"
   ]
  },
  {
   "cell_type": "markdown",
   "id": "eed51933-65a2-4f93-9fab-0166f51753f6",
   "metadata": {},
   "source": [
    "<img src =\"PY 9.png\" width =\"700\"/>"
   ]
  },
  {
   "cell_type": "markdown",
   "id": "0d189dae-db88-4dc3-9231-d26d52d11814",
   "metadata": {},
   "source": [
    "#### Example Usage:"
   ]
  },
  {
   "cell_type": "code",
   "execution_count": 3,
   "id": "3ad82485-a333-4db9-a08d-046df3b5b1bb",
   "metadata": {},
   "outputs": [
    {
     "name": "stdout",
     "output_type": "stream",
     "text": [
      "name : Alice\n",
      "age : 26\n",
      "city : New York\n"
     ]
    }
   ],
   "source": [
    "student = {\"name\": \"Alice\", \"age\": 25, \"grade\": \"A\"}\n",
    "\n",
    "# Adding a new key-value pair\n",
    "student[\"city\"] = \"New York\"\n",
    "\n",
    "# Updating an existing value\n",
    "student[\"age\"] = 26\n",
    "\n",
    "# Removing an item\n",
    "student.pop(\"grade\")\n",
    "\n",
    "# Iterating over a dictionary\n",
    "for key, value in student.items():\n",
    "    print(key, \":\", value)\n",
    "\n",
    "# Output:\n",
    "# name : Alice\n",
    "# age : 26\n",
    "# city : New York"
   ]
  },
  {
   "cell_type": "markdown",
   "id": "cf07da65-b0d0-4b88-8bf6-43a26d6cb8bb",
   "metadata": {},
   "source": [
    "#### Dictionary Comprehension:"
   ]
  },
  {
   "cell_type": "code",
   "execution_count": 4,
   "id": "be9e0112-6b5e-4def-904e-75c6c218561c",
   "metadata": {},
   "outputs": [
    {
     "name": "stdout",
     "output_type": "stream",
     "text": [
      "{1: 1, 2: 4, 3: 9, 4: 16, 5: 25}\n"
     ]
    }
   ],
   "source": [
    "# Creating a dictionary using comprehension\n",
    "squares = {x: x**2 for x in range(1, 6)}\n",
    "print(squares)  # {1: 1, 2: 4, 3: 9, 4: 16, 5: 25}"
   ]
  },
  {
   "cell_type": "markdown",
   "id": "cb50a16a-dcf8-4109-a17d-ce59c1b2159b",
   "metadata": {},
   "source": [
    "#### Key Properties of Dictionaries:\n",
    "- Unordered (Python 3.6+ maintains insertion order).\n",
    "             \n",
    "- Keys must be unique and immutable (e.g., strings, numbers, tuples).\n",
    "             \n",
    "- Values can be mutable and of any type."
   ]
  }
 ],
 "metadata": {
  "kernelspec": {
   "display_name": "Python [conda env:base] *",
   "language": "python",
   "name": "conda-base-py"
  },
  "language_info": {
   "codemirror_mode": {
    "name": "ipython",
    "version": 3
   },
   "file_extension": ".py",
   "mimetype": "text/x-python",
   "name": "python",
   "nbconvert_exporter": "python",
   "pygments_lexer": "ipython3",
   "version": "3.12.7"
  }
 },
 "nbformat": 4,
 "nbformat_minor": 5
}
