{
 "cells": [
  {
   "cell_type": "markdown",
   "id": "09279c7c-0b15-4197-b355-c1d361272f25",
   "metadata": {},
   "source": [
    "### List comprehensions"
   ]
  },
  {
   "cell_type": "markdown",
   "id": "4fcbc860-1a49-4fc9-b18b-be5fa3caaba7",
   "metadata": {},
   "source": [
    "**List comprehension is a concise and efficient way to create lists in Python. It allows you to generate lists in a single line of code, making your code more readable and Pythonic.**\n",
    "\n"
   ]
  },
  {
   "cell_type": "markdown",
   "id": "7fe4eaa5-192f-446b-bc7c-0a089b80bc80",
   "metadata": {},
   "source": [
    "#### 1. Basic Syntax"
   ]
  },
  {
   "cell_type": "code",
   "execution_count": null,
   "id": "2aa237fe-a2d5-4e27-9c72-62cb82221c21",
   "metadata": {},
   "outputs": [],
   "source": [
    "[expression for item in iterable]"
   ]
  },
  {
   "cell_type": "markdown",
   "id": "20e8a62d-d152-4216-ad3f-1858ba0ac7a9",
   "metadata": {},
   "source": [
    "- expression → The operation to perform on each item\n",
    "\n",
    "- item → The variable representing each element in the iterable\n",
    "\n",
    "- iterable → The data structure being iterated over (list, range, etc.)"
   ]
  },
  {
   "cell_type": "code",
   "execution_count": 2,
   "id": "43e0a92b-cb6b-47d9-b293-98669cdf21d3",
   "metadata": {},
   "outputs": [
    {
     "name": "stdout",
     "output_type": "stream",
     "text": [
      "[0, 1, 4, 9, 16]\n"
     ]
    }
   ],
   "source": [
    "### Example: Creating a list of squares\n",
    "\n",
    "squares = [x**2 for x in range(5)]\n",
    "print(squares) "
   ]
  },
  {
   "cell_type": "markdown",
   "id": "e4986eed-4357-447a-9387-7380fbeba7cb",
   "metadata": {},
   "source": [
    "#### 2. Using if Condition in List Comprehension"
   ]
  },
  {
   "cell_type": "code",
   "execution_count": 3,
   "id": "35385d63-5975-4911-8ff4-3fe13184197a",
   "metadata": {},
   "outputs": [
    {
     "name": "stdout",
     "output_type": "stream",
     "text": [
      "[0, 2, 4, 6, 8]\n"
     ]
    }
   ],
   "source": [
    "### Example: Filtering even numbers\n",
    "evens = [x for x in range(10) if x % 2 == 0]\n",
    "print(evens)"
   ]
  },
  {
   "cell_type": "markdown",
   "id": "e61f8694-f294-4141-9667-b19e63bec73c",
   "metadata": {},
   "source": [
    "#### 3. Using if-else Condition in List Comprehension"
   ]
  },
  {
   "cell_type": "code",
   "execution_count": 4,
   "id": "b42483e3-c7b4-41f1-a7fb-017d667f2cde",
   "metadata": {},
   "outputs": [
    {
     "name": "stdout",
     "output_type": "stream",
     "text": [
      "['Even', 'Odd', 'Even', 'Odd', 'Even']\n"
     ]
    }
   ],
   "source": [
    "### Example: Replacing even numbers with \"Even\" and odd numbers with \"Odd\"\n",
    "numbers = [\"Even\" if x % 2 == 0 else \"Odd\" for x in range(5)]\n",
    "print(numbers)"
   ]
  },
  {
   "cell_type": "markdown",
   "id": "be1fc352-a803-4ec7-945c-4f07f0669292",
   "metadata": {},
   "source": [
    "#### 4. Nested Loops in List Comprehension"
   ]
  },
  {
   "cell_type": "code",
   "execution_count": 5,
   "id": "d0a6dd11-344c-4bf7-9b9d-b6972c423102",
   "metadata": {},
   "outputs": [
    {
     "name": "stdout",
     "output_type": "stream",
     "text": [
      "[(0, 0), (0, 1), (0, 2), (1, 0), (1, 1), (1, 2)]\n"
     ]
    }
   ],
   "source": [
    "### Example: Creating pairs from two lists\n",
    "pairs = [(x, y) for x in range(2) for y in range(3)]\n",
    "print(pairs)"
   ]
  },
  {
   "cell_type": "markdown",
   "id": "a8bb13da-1bab-46df-ba28-594f975d504b",
   "metadata": {},
   "source": [
    "#### 5. List Comprehension with Functions"
   ]
  },
  {
   "cell_type": "code",
   "execution_count": 6,
   "id": "49ef1e38-4ed2-4ab4-a6c2-b3e10e11122b",
   "metadata": {},
   "outputs": [
    {
     "name": "stdout",
     "output_type": "stream",
     "text": [
      "['HELLO', 'WORLD', 'PYTHON']\n"
     ]
    }
   ],
   "source": [
    "### Example: Converting a list of strings to uppercase\n",
    "words = [\"hello\", \"world\", \"python\"]\n",
    "upper_words = [word.upper() for word in words]\n",
    "print(upper_words)"
   ]
  },
  {
   "cell_type": "markdown",
   "id": "0112eac0-2077-4283-adf7-8b2043d432c2",
   "metadata": {},
   "source": [
    "#### 6. List Comprehension with Nested List Comprehension"
   ]
  },
  {
   "cell_type": "code",
   "execution_count": 7,
   "id": "86a2f3d4-ab37-45f3-8a92-f7dace59799a",
   "metadata": {},
   "outputs": [
    {
     "name": "stdout",
     "output_type": "stream",
     "text": [
      "[1, 2, 3, 4, 5, 6]\n"
     ]
    }
   ],
   "source": [
    "### Example: Flattening a 2D list\n",
    "matrix = [[1, 2], [3, 4], [5, 6]]\n",
    "flattened = [num for row in matrix for num in row]\n",
    "print(flattened)"
   ]
  },
  {
   "cell_type": "markdown",
   "id": "2de6d6d1-0f1b-4e3f-9432-21bf364caae3",
   "metadata": {},
   "source": [
    "#### 7. List Comprehension with Set and Dictionary Comprehensions"
   ]
  },
  {
   "cell_type": "code",
   "execution_count": 8,
   "id": "60b3102f-d2fb-4ede-bcbd-558d15270170",
   "metadata": {},
   "outputs": [
    {
     "name": "stdout",
     "output_type": "stream",
     "text": [
      "{1, 2, 3, 4}\n"
     ]
    }
   ],
   "source": [
    "## Set Comprehension\n",
    "unique_numbers = {x for x in [1, 2, 2, 3, 4, 4]}\n",
    "print(unique_numbers)  # Output: {1, 2, 3, 4}"
   ]
  },
  {
   "cell_type": "code",
   "execution_count": 9,
   "id": "a2391f7c-d769-47d4-b14b-4f2e6258eed1",
   "metadata": {},
   "outputs": [
    {
     "name": "stdout",
     "output_type": "stream",
     "text": [
      "{0: 0, 1: 1, 2: 4, 3: 9, 4: 16}\n"
     ]
    }
   ],
   "source": [
    "## Dictionary Comprehension\n",
    "squared_dict = {x: x**2 for x in range(5)}\n",
    "print(squared_dict)  # Output: {0: 0, 1: 1, 2: 4, 3: 9, 4: 16}"
   ]
  },
  {
   "cell_type": "markdown",
   "id": "f1814661-51a5-4656-b7a5-5d1f9fdde4f9",
   "metadata": {},
   "source": [
    "### 8. When to Use List Comprehensions?\n",
    "\n",
    "- You need to create a list in a single line\n",
    "\n",
    "- The logic is simple and readable\n",
    "\n",
    "- You want to improve performance (faster than loops)"
   ]
  },
  {
   "cell_type": "markdown",
   "id": "d4d28e4e-4170-483f-b588-8cbd37a4c972",
   "metadata": {},
   "source": [
    "#### 9. Performance Comparison: List Comprehension vs. Loop"
   ]
  },
  {
   "cell_type": "code",
   "execution_count": 10,
   "id": "4ddd4640-ef40-4ad0-ac9b-bad522a1a91a",
   "metadata": {},
   "outputs": [
    {
     "name": "stdout",
     "output_type": "stream",
     "text": [
      "Loop time: 0.24704337120056152\n",
      "List Comprehension time: 0.12485027313232422\n"
     ]
    }
   ],
   "source": [
    "import time\n",
    "\n",
    "# Using a for loop\n",
    "start = time.time()\n",
    "squares_loop = []\n",
    "for x in range(10**6):\n",
    "    squares_loop.append(x**2)\n",
    "print(\"Loop time:\", time.time() - start)\n",
    "\n",
    "# Using list comprehension\n",
    "start = time.time()\n",
    "squares_comp = [x**2 for x in range(10**6)]\n",
    "print(\"List Comprehension time:\", time.time() - start)"
   ]
  },
  {
   "cell_type": "markdown",
   "id": "bdf09626-a37d-4d9e-a936-c37f9ee524bd",
   "metadata": {},
   "source": [
    "## Summary"
   ]
  },
  {
   "cell_type": "markdown",
   "id": "340282b1-e8ca-43ab-b195-98a13390eb42",
   "metadata": {},
   "source": [
    "<img src =\"PY 14.png\" width =\"700\"/>"
   ]
  }
 ],
 "metadata": {
  "kernelspec": {
   "display_name": "Python [conda env:base] *",
   "language": "python",
   "name": "conda-base-py"
  },
  "language_info": {
   "codemirror_mode": {
    "name": "ipython",
    "version": 3
   },
   "file_extension": ".py",
   "mimetype": "text/x-python",
   "name": "python",
   "nbconvert_exporter": "python",
   "pygments_lexer": "ipython3",
   "version": "3.12.7"
  }
 },
 "nbformat": 4,
 "nbformat_minor": 5
}
