{
 "cells": [
  {
   "cell_type": "markdown",
   "id": "053173b7-ea42-41ee-9b27-8723b64c3c67",
   "metadata": {},
   "source": [
    "## Lambda functions"
   ]
  },
  {
   "cell_type": "markdown",
   "id": "56f57a46-3931-45c2-81c2-c2c15789c177",
   "metadata": {},
   "source": [
    "**A lambda function in Python is an anonymous, single-expression function defined using the lambda keyword. It is commonly used for short, throwaway functions where a full function definition is unnecessary.**"
   ]
  },
  {
   "cell_type": "markdown",
   "id": "f051d4f9-f1b8-4f17-a475-921a7127143b",
   "metadata": {},
   "source": [
    "#### 1. Syntax of Lambda Functions"
   ]
  },
  {
   "cell_type": "code",
   "execution_count": null,
   "id": "62d9b521-8346-4210-ab7e-2572122a2040",
   "metadata": {},
   "outputs": [],
   "source": [
    "lambda arguments: expression"
   ]
  },
  {
   "cell_type": "markdown",
   "id": "b6bebf81-49e2-4a90-9105-024bca6e05b1",
   "metadata": {},
   "source": [
    "- lambda → Keyword to define a lambda function\n",
    "\n",
    "- arguments → Input parameters (comma-separated)\n",
    "\n",
    "- expression → The operation performed (must be a single expression, not multiple statements)"
   ]
  },
  {
   "cell_type": "code",
   "execution_count": 1,
   "id": "d30ce41c-03fc-4007-a6b8-b18caac379e4",
   "metadata": {},
   "outputs": [
    {
     "name": "stdout",
     "output_type": "stream",
     "text": [
      "25\n"
     ]
    }
   ],
   "source": [
    "### Example: Simple Lambda Function\n",
    "square = lambda x: x ** 2\n",
    "print(square(5))"
   ]
  },
  {
   "cell_type": "markdown",
   "id": "a4dd6311-a460-4293-88d7-98bb17fb46cf",
   "metadata": {},
   "source": [
    "## 2. Using Lambda Functions with map(), filter(), and reduce()\n",
    "### 2.1 Using map() with Lambda\n",
    "#### Applies a function to each element of an iterable."
   ]
  },
  {
   "cell_type": "code",
   "execution_count": 2,
   "id": "06694ac3-7392-4af7-9eee-d8a7d4ab117d",
   "metadata": {},
   "outputs": [
    {
     "name": "stdout",
     "output_type": "stream",
     "text": [
      "[1, 4, 9, 16]\n"
     ]
    }
   ],
   "source": [
    "numbers = [1, 2, 3, 4]\n",
    "squared = list(map(lambda x: x**2, numbers))\n",
    "print(squared)"
   ]
  },
  {
   "cell_type": "markdown",
   "id": "63c9e69c-ecc8-4a20-8737-cd6b1f47efec",
   "metadata": {},
   "source": [
    "### 2.2 Using filter() with Lambda\n",
    "#### Filters elements based on a condition."
   ]
  },
  {
   "cell_type": "code",
   "execution_count": 3,
   "id": "7e5b7cc1-b418-468d-90ef-a0fd44986b4e",
   "metadata": {},
   "outputs": [
    {
     "name": "stdout",
     "output_type": "stream",
     "text": [
      "[2, 4, 6]\n"
     ]
    }
   ],
   "source": [
    "numbers = [1, 2, 3, 4, 5, 6]\n",
    "evens = list(filter(lambda x: x % 2 == 0, numbers))\n",
    "print(evens)"
   ]
  },
  {
   "cell_type": "markdown",
   "id": "9bff9bf8-dd8c-4653-b1ee-1e354f4acace",
   "metadata": {},
   "source": [
    "### 2.3 Using reduce() with Lambda\n",
    "#### Reduces an iterable to a single value (requires functools.reduce)."
   ]
  },
  {
   "cell_type": "code",
   "execution_count": 4,
   "id": "77b5dd59-75c5-4484-b392-a77587a469d5",
   "metadata": {},
   "outputs": [
    {
     "name": "stdout",
     "output_type": "stream",
     "text": [
      "24\n"
     ]
    }
   ],
   "source": [
    "from functools import reduce\n",
    " \n",
    "numbers = [1, 2, 3, 4]\n",
    "product = reduce(lambda x, y: x * y, numbers)\n",
    "print(product)"
   ]
  },
  {
   "cell_type": "markdown",
   "id": "2d8b51a5-2efb-441c-bd6f-ab3fe21baa4e",
   "metadata": {},
   "source": [
    "### 3. Lambda with Multiple Arguments\n",
    "#### Example: Adding Two Numbers"
   ]
  },
  {
   "cell_type": "code",
   "execution_count": 5,
   "id": "0762bdd9-5ddd-4284-9c37-bedf5079d8c1",
   "metadata": {},
   "outputs": [
    {
     "name": "stdout",
     "output_type": "stream",
     "text": [
      "10\n"
     ]
    }
   ],
   "source": [
    "add = lambda x, y: x + y\n",
    "print(add(3, 7))"
   ]
  },
  {
   "cell_type": "markdown",
   "id": "2ce4b61c-39b7-49f4-b52b-74bc79a1ecba",
   "metadata": {},
   "source": [
    "#### Example: Finding the Maximum of Two Numbers"
   ]
  },
  {
   "cell_type": "code",
   "execution_count": 6,
   "id": "8afdd9cc-d1b1-4d13-9783-9a1f1c75ff4f",
   "metadata": {},
   "outputs": [
    {
     "name": "stdout",
     "output_type": "stream",
     "text": [
      "10\n"
     ]
    }
   ],
   "source": [
    "maximum = lambda x, y: x if x > y else y\n",
    "print(maximum(10, 5))"
   ]
  },
  {
   "cell_type": "markdown",
   "id": "e345e185-42f5-452f-b044-d0d221a14796",
   "metadata": {},
   "source": [
    "### 4. Lambda in Sorting Functions"
   ]
  },
  {
   "cell_type": "markdown",
   "id": "d10b284b-1d46-4a51-adc8-eaf60c1a7264",
   "metadata": {},
   "source": [
    "#### Sorting a List of Tuples"
   ]
  },
  {
   "cell_type": "code",
   "execution_count": 7,
   "id": "43d3567e-c671-459c-8f7a-c496a285f501",
   "metadata": {},
   "outputs": [
    {
     "name": "stdout",
     "output_type": "stream",
     "text": [
      "[('Bob', 78), ('Alice', 85), ('Charlie', 92)]\n"
     ]
    }
   ],
   "source": [
    "students = [(\"Alice\", 85), (\"Bob\", 78), (\"Charlie\", 92)]\n",
    "students.sort(key=lambda student: student[1])  # Sort by score\n",
    "print(students)"
   ]
  },
  {
   "cell_type": "markdown",
   "id": "fcae81b4-4994-4888-a686-59e58bfb9ff4",
   "metadata": {},
   "source": [
    "### 5. When to Use Lambda Functions?"
   ]
  },
  {
   "cell_type": "markdown",
   "id": "61f515cd-ed30-43ea-b01f-a322ba9d4240",
   "metadata": {},
   "source": [
    "#### Use Lambda Functions When:\n",
    "\n",
    "- The function is short and simple.\n",
    "\n",
    "- Used temporarily inside another function (e.g., map, filter).\n",
    "\n",
    "- Avoiding defining a full function with def."
   ]
  },
  {
   "cell_type": "markdown",
   "id": "e85f882d-735d-4971-944f-5f98169d241a",
   "metadata": {},
   "source": [
    "#### Avoid Lambda Functions When:\n",
    "\n",
    "- The function is complex (use def for readability).\n",
    "\n",
    "- Multiple operations/statements are needed.\n"
   ]
  },
  {
   "cell_type": "markdown",
   "id": "88d93f0d-b0af-4195-8cd7-5aeb263acaab",
   "metadata": {},
   "source": [
    "### Summary"
   ]
  },
  {
   "cell_type": "markdown",
   "id": "c57e5ab3-b164-48d2-9a58-ccaf7a2a896a",
   "metadata": {},
   "source": [
    "<img src = \"PY 15.png\" width =\"700\"/>"
   ]
  }
 ],
 "metadata": {
  "kernelspec": {
   "display_name": "Python [conda env:base] *",
   "language": "python",
   "name": "conda-base-py"
  },
  "language_info": {
   "codemirror_mode": {
    "name": "ipython",
    "version": 3
   },
   "file_extension": ".py",
   "mimetype": "text/x-python",
   "name": "python",
   "nbconvert_exporter": "python",
   "pygments_lexer": "ipython3",
   "version": "3.12.7"
  }
 },
 "nbformat": 4,
 "nbformat_minor": 5
}
