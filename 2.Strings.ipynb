{
 "cells": [
  {
   "cell_type": "markdown",
   "id": "44776499-399d-45cf-8bf4-fcd16fb1b0bc",
   "metadata": {},
   "source": [
    "## String & String Methods in Python"
   ]
  },
  {
   "cell_type": "markdown",
   "id": "80538337-5a49-4551-9f78-f929203465f5",
   "metadata": {},
   "source": [
    "### What is a String?"
   ]
  },
  {
   "cell_type": "markdown",
   "id": "ffa3d8d8-6c83-44e3-aa14-b824887c8136",
   "metadata": {},
   "source": [
    "##### A string is a sequence of characters enclosed in single (') or double (\") quotes."
   ]
  },
  {
   "cell_type": "code",
   "execution_count": 1,
   "id": "76e4aa2c-95c2-4e80-a767-caed5f878cd8",
   "metadata": {},
   "outputs": [],
   "source": [
    "name = \"Alice\"\n",
    "greeting = 'Hello'"
   ]
  },
  {
   "cell_type": "markdown",
   "id": "daf3c840-0bee-4c6e-8f39-aa3ff9e37a66",
   "metadata": {},
   "source": [
    "#### Multiline Strings"
   ]
  },
  {
   "cell_type": "markdown",
   "id": "7ec419ea-21c3-4dda-a646-603a90503865",
   "metadata": {},
   "source": [
    "**Use triple quotes (''' or \"\"\") for multiline text.**"
   ]
  },
  {
   "cell_type": "code",
   "execution_count": 2,
   "id": "07041219-c27b-4d01-81a7-a4a8da333669",
   "metadata": {},
   "outputs": [],
   "source": [
    "message = \"\"\"This is\n",
    "a multiline\n",
    "string.\"\"\""
   ]
  },
  {
   "cell_type": "markdown",
   "id": "96ea43c0-a2d5-4c07-8138-d5d55b8fcae9",
   "metadata": {},
   "source": [
    "#### String Indexing and Slicing"
   ]
  },
  {
   "cell_type": "code",
   "execution_count": 3,
   "id": "a1c177b4-f656-435f-afe3-8de1715c04b0",
   "metadata": {},
   "outputs": [
    {
     "data": {
      "text/plain": [
       "'hon'"
      ]
     },
     "execution_count": 3,
     "metadata": {},
     "output_type": "execute_result"
    }
   ],
   "source": [
    "text = \"Python\"\n",
    "text[0]    # 'P'\n",
    "text[-1]   # 'n' (last character)\n",
    "text[0:2]  # 'Py'\n",
    "text[:3]   # 'Pyt'\n",
    "text[3:]   # 'hon'"
   ]
  },
  {
   "cell_type": "markdown",
   "id": "bddbdcfd-abe7-41a6-8293-fbab699c7e14",
   "metadata": {},
   "source": [
    "#### String Immutability"
   ]
  },
  {
   "cell_type": "markdown",
   "id": "12be393c-ab76-4e59-9902-fc025258d823",
   "metadata": {},
   "source": [
    "##### Strings cannot be changed after creation."
   ]
  },
  {
   "cell_type": "markdown",
   "id": "9dc93c15-d154-4aa8-94e9-1485e09298be",
   "metadata": {},
   "source": [
    "#### Common String Methods"
   ]
  },
  {
   "cell_type": "markdown",
   "id": "18e8acd1-7e9d-4dc2-800c-e9fd2b4be7cf",
   "metadata": {},
   "source": [
    "<img src = \"PY 1.png\" width =\"700\"/>"
   ]
  },
  {
   "cell_type": "code",
   "execution_count": 4,
   "id": "10564c93-6fff-4063-a6b2-d1ab381c0257",
   "metadata": {},
   "outputs": [
    {
     "data": {
      "text/plain": [
       "2"
      ]
     },
     "execution_count": 4,
     "metadata": {},
     "output_type": "execute_result"
    }
   ],
   "source": [
    "### Examples\n",
    "\n",
    "\"hello\".upper()           # 'HELLO'\n",
    "\" Hello \".strip()         # 'Hello'\n",
    "\"hello world\".split()     # ['hello', 'world']\n",
    "\"-\".join([\"2025\", \"04\", \"14\"])  # '2025-04-14'\n",
    "\"python\".find(\"th\")       # 2"
   ]
  },
  {
   "cell_type": "code",
   "execution_count": 5,
   "id": "eccd15be-5cd2-498d-8dee-6aef86a98d26",
   "metadata": {},
   "outputs": [
    {
     "data": {
      "text/plain": [
       "'Hello, Alice. You are 30 years old.'"
      ]
     },
     "execution_count": 5,
     "metadata": {},
     "output_type": "execute_result"
    }
   ],
   "source": [
    "### String Formatting (f-strings)\n",
    "name = \"Alice\"\n",
    "age = 30\n",
    "f\"Hello, {name}. You are {age} years old.\"\n",
    "# 'Hello, Alice. You are 30 years old.'"
   ]
  }
 ],
 "metadata": {
  "kernelspec": {
   "display_name": "Python [conda env:base] *",
   "language": "python",
   "name": "conda-base-py"
  },
  "language_info": {
   "codemirror_mode": {
    "name": "ipython",
    "version": 3
   },
   "file_extension": ".py",
   "mimetype": "text/x-python",
   "name": "python",
   "nbconvert_exporter": "python",
   "pygments_lexer": "ipython3",
   "version": "3.12.7"
  }
 },
 "nbformat": 4,
 "nbformat_minor": 5
}
