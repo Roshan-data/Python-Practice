{
 "cells": [
  {
   "cell_type": "markdown",
   "id": "e984c263-fd45-4361-9658-300a00c6e19b",
   "metadata": {},
   "source": [
    "### Match Case"
   ]
  },
  {
   "cell_type": "markdown",
   "id": "03ff341a-7369-49b8-bae2-776681b16b23",
   "metadata": {},
   "source": [
    "**The match-case statement, introduced in Python 3.10, provides pattern matching similar to switch statements in other languages.**"
   ]
  },
  {
   "cell_type": "code",
   "execution_count": 1,
   "id": "5065f68c-3766-4d02-978d-892f47f7a1d1",
   "metadata": {},
   "outputs": [
    {
     "name": "stdout",
     "output_type": "stream",
     "text": [
      "OK\n",
      "Not Found\n"
     ]
    }
   ],
   "source": [
    "def http_status(code):\n",
    "    match code:\n",
    "        case 200:\n",
    "            return \"OK\"\n",
    "        case 400:\n",
    "            return \"Bad Request\"\n",
    "        case 404:\n",
    "            return \"Not Found\"\n",
    "        case 500:\n",
    "            return \"Internal Server Error\"\n",
    "        case _:\n",
    "            return \"Unknown Status\"\n",
    "\n",
    "print(http_status(200))  # Output: OK\n",
    "print(http_status(404))  # Output: Not Found"
   ]
  },
  {
   "cell_type": "markdown",
   "id": "6853688d-c79e-4509-9d25-0509b64e307f",
   "metadata": {},
   "source": [
    "#### Features:\n",
    "- The _ (underscore) acts as a default case.\n",
    "\n",
    "- Patterns can include literals, variable bindings, and even structural patterns"
   ]
  },
  {
   "cell_type": "markdown",
   "id": "cc4730e2-ace3-4044-801a-68604ce566aa",
   "metadata": {},
   "source": [
    "### Example: Matching Data Structures"
   ]
  },
  {
   "cell_type": "code",
   "execution_count": 2,
   "id": "64403f72-790e-4b16-884f-9c244a0df9b0",
   "metadata": {},
   "outputs": [
    {
     "name": "stdout",
     "output_type": "stream",
     "text": [
      "Point at (3, 4)\n"
     ]
    }
   ],
   "source": [
    "point = (3, 4)\n",
    "\n",
    "match point:\n",
    "    case (0, 0):\n",
    "        print(\"Origin\")\n",
    "    case (x, 0):\n",
    "        print(f\"X-Axis at {x}\")\n",
    "    case (0, y):\n",
    "        print(f\"Y-Axis at {y}\")\n",
    "    case (x, y):\n",
    "        print(f\"Point at ({x}, {y})\")"
   ]
  }
 ],
 "metadata": {
  "kernelspec": {
   "display_name": "Python [conda env:base] *",
   "language": "python",
   "name": "conda-base-py"
  },
  "language_info": {
   "codemirror_mode": {
    "name": "ipython",
    "version": 3
   },
   "file_extension": ".py",
   "mimetype": "text/x-python",
   "name": "python",
   "nbconvert_exporter": "python",
   "pygments_lexer": "ipython3",
   "version": "3.12.7"
  }
 },
 "nbformat": 4,
 "nbformat_minor": 5
}
