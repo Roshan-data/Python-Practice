{
 "cells": [
  {
   "cell_type": "markdown",
   "id": "ec00b200-3868-47d2-8f70-5f5fea466619",
   "metadata": {},
   "source": [
    "## Sets"
   ]
  },
  {
   "cell_type": "markdown",
   "id": "c6c1b03a-4d35-492f-8598-e7120304c293",
   "metadata": {},
   "source": [
    "**A set in Python is an unordered, mutable, and unique collection of elements. It does not allow duplicate values.**"
   ]
  },
  {
   "cell_type": "markdown",
   "id": "5f4bb740-e166-446b-89a4-40736985d035",
   "metadata": {},
   "source": [
    "#### Creating a Set:"
   ]
  },
  {
   "cell_type": "code",
   "execution_count": 1,
   "id": "faaac46d-5593-453c-a965-ee37b1efc7ef",
   "metadata": {},
   "outputs": [
    {
     "name": "stdout",
     "output_type": "stream",
     "text": [
      "{1, 2, 3, 4, 5}\n"
     ]
    }
   ],
   "source": [
    "# Empty set (must use set(), not {})\n",
    "empty_set = set()\n",
    "\n",
    "# Set with elements\n",
    "numbers = {1, 2, 3, 4, 5}\n",
    "\n",
    "# Mixed data types\n",
    "mixed_set = {1, \"Hello\", 3.14, True}\n",
    "\n",
    "# Creating a set from a list\n",
    "unique_numbers = set([1, 2, 2, 3, 4, 4, 5])\n",
    "print(unique_numbers)  # {1, 2, 3, 4, 5}"
   ]
  },
  {
   "cell_type": "markdown",
   "id": "04344eb8-73f0-4312-9668-dfa70d36451d",
   "metadata": {},
   "source": [
    "### Common Set Methods"
   ]
  },
  {
   "cell_type": "markdown",
   "id": "c25eeb5b-45a3-415d-8d56-143bd93d4280",
   "metadata": {},
   "source": [
    "<img src = \"PY 7.png\" width =\"700\"/>"
   ]
  },
  {
   "cell_type": "markdown",
   "id": "9553e50d-e4d3-43af-91ea-8b776b8eecd8",
   "metadata": {},
   "source": [
    "### Set Operations"
   ]
  },
  {
   "cell_type": "markdown",
   "id": "c19328e2-9e0d-4ffc-a350-a265da9bb3ec",
   "metadata": {},
   "source": [
    "<img src =\"PY 8.png\" width =\"700\"/>"
   ]
  },
  {
   "cell_type": "markdown",
   "id": "ae54da49-123c-4439-a90b-eceb1a25f405",
   "metadata": {},
   "source": [
    "#### Example Usage:\n",
    "**In Python, sets support intuitive operators for common operations like union (|), intersection (&), difference (-), and symmetric difference (^). These have equivalent method forms too, like .union(), .intersection(), etc. Here's a quick example:**"
   ]
  },
  {
   "cell_type": "code",
   "execution_count": 2,
   "id": "07216ee9-fdc3-4975-85a0-9c990b327e79",
   "metadata": {},
   "outputs": [
    {
     "name": "stdout",
     "output_type": "stream",
     "text": [
      "{1, 2, 3, 4, 5, 6}\n",
      "{1, 2, 3, 4, 5, 6}\n",
      "{3, 4}\n",
      "{3, 4}\n",
      "{1, 2}\n",
      "{1, 2}\n",
      "{1, 2, 5, 6}\n",
      "{1, 2, 5, 6}\n"
     ]
    }
   ],
   "source": [
    "set1 = {1, 2, 3, 4}\n",
    "set2 = {3, 4, 5, 6}\n",
    "\n",
    "# Union – combines all unique elements\n",
    "print(set1 | set2)            # {1, 2, 3, 4, 5, 6}\n",
    "print(set1.union(set2))       # same result\n",
    "\n",
    "# Intersection – common elements\n",
    "print(set1 & set2)            # {3, 4}\n",
    "print(set1.intersection(set2))# same result\n",
    "\n",
    "# Difference – in set1 but not in set2\n",
    "print(set1 - set2)            # {1, 2}\n",
    "print(set1.difference(set2))  # same result\n",
    "\n",
    "# Symmetric Difference – in either set, but not both\n",
    "print(set1 ^ set2)                     # {1, 2, 5, 6}\n",
    "print(set1.symmetric_difference(set2))# same result"
   ]
  },
  {
   "cell_type": "markdown",
   "id": "cc0c0086-a13d-4dd0-89cf-9f1b2ea77e83",
   "metadata": {},
   "source": [
    "### Key Properties of Sets:\n",
    "- Unordered: No indexing or slicing.\n",
    "    \n",
    "- Unique Elements: Duplicates are automatically removed.\n",
    "    \n",
    "- Mutable: You can add or remove elements."
   ]
  }
 ],
 "metadata": {
  "kernelspec": {
   "display_name": "Python [conda env:base] *",
   "language": "python",
   "name": "conda-base-py"
  },
  "language_info": {
   "codemirror_mode": {
    "name": "ipython",
    "version": 3
   },
   "file_extension": ".py",
   "mimetype": "text/x-python",
   "name": "python",
   "nbconvert_exporter": "python",
   "pygments_lexer": "ipython3",
   "version": "3.12.7"
  }
 },
 "nbformat": 4,
 "nbformat_minor": 5
}
