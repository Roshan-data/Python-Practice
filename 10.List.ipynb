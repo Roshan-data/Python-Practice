{
 "cells": [
  {
   "cell_type": "markdown",
   "id": "3004beb3-88b1-4ebc-967a-694a81f53b04",
   "metadata": {},
   "source": [
    "### List"
   ]
  },
  {
   "cell_type": "markdown",
   "id": "709f3605-b8a5-49ec-9703-7ce7c5e248bf",
   "metadata": {},
   "source": [
    "**A list in Python is an ordered, mutable collection of elements. It can contain elements of different types.**"
   ]
  },
  {
   "cell_type": "code",
   "execution_count": 1,
   "id": "cadbcd43-c496-4865-80cb-0a70e5c0aadf",
   "metadata": {},
   "outputs": [],
   "source": [
    "# Empty list\n",
    "my_list = []\n",
    "\n",
    "# List with elements\n",
    "numbers = [1, 2, 3, 4, 5]\n",
    "\n",
    "# Mixed data types\n",
    "mixed_list = [1, \"Hello\", 3.14, True]"
   ]
  },
  {
   "cell_type": "markdown",
   "id": "d4ffa323-2426-4057-98ff-86c17da61e10",
   "metadata": {},
   "source": [
    "<img src = \"PY 6.png\" width =\"700\"/>"
   ]
  },
  {
   "cell_type": "markdown",
   "id": "304e14e0-3d45-43fa-baa4-03ab8a0a3518",
   "metadata": {},
   "source": [
    "### Example Usage:"
   ]
  },
  {
   "cell_type": "code",
   "execution_count": 3,
   "id": "d9689011-f377-4a12-8b96-317586c1545d",
   "metadata": {},
   "outputs": [
    {
     "name": "stdout",
     "output_type": "stream",
     "text": [
      "['apple', 'banana', 'cherry', 'orange']\n",
      "['apple', 'banana', 'cherry', 'orange']\n"
     ]
    }
   ],
   "source": [
    "fruits = [\"apple\", \"banana\", \"cherry\"]\n",
    "fruits.append(\"orange\")\n",
    "print(fruits) \n",
    "\n",
    "fruits.sort()\n",
    "print(fruits) "
   ]
  }
 ],
 "metadata": {
  "kernelspec": {
   "display_name": "Python [conda env:base] *",
   "language": "python",
   "name": "conda-base-py"
  },
  "language_info": {
   "codemirror_mode": {
    "name": "ipython",
    "version": 3
   },
   "file_extension": ".py",
   "mimetype": "text/x-python",
   "name": "python",
   "nbconvert_exporter": "python",
   "pygments_lexer": "ipython3",
   "version": "3.12.7"
  }
 },
 "nbformat": 4,
 "nbformat_minor": 5
}
